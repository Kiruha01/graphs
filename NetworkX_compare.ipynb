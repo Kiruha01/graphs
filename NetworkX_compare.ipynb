{
 "cells": [
  {
   "cell_type": "code",
   "execution_count": 1,
   "outputs": [],
   "source": [
    "import networkx as nx\n",
    "from import_dataset import google_directed, ca_undirected\n",
    "from utils import *\n",
    "from matplotlib import pyplot as plt\n",
    "google_drive = False\n",
    "import time"
   ],
   "metadata": {
    "collapsed": false,
    "pycharm": {
     "name": "#%%\n"
    }
   }
  },
  {
   "cell_type": "code",
   "execution_count": 3,
   "outputs": [
    {
     "ename": "ModuleNotFoundError",
     "evalue": "No module named 'google'",
     "output_type": "error",
     "traceback": [
      "\u001B[1;31m---------------------------------------------------------------------------\u001B[0m",
      "\u001B[1;31mModuleNotFoundError\u001B[0m                       Traceback (most recent call last)",
      "Input \u001B[1;32mIn [3]\u001B[0m, in \u001B[0;36m<cell line: 1>\u001B[1;34m()\u001B[0m\n\u001B[1;32m----> 1\u001B[0m \u001B[38;5;28;01mfrom\u001B[39;00m \u001B[38;5;21;01mgoogle\u001B[39;00m\u001B[38;5;21;01m.\u001B[39;00m\u001B[38;5;21;01mcolab\u001B[39;00m \u001B[38;5;28;01mimport\u001B[39;00m drive\n\u001B[0;32m      2\u001B[0m drive\u001B[38;5;241m.\u001B[39mmount(\u001B[38;5;124m'\u001B[39m\u001B[38;5;124m/content/drive\u001B[39m\u001B[38;5;124m'\u001B[39m)\n\u001B[0;32m      3\u001B[0m google_drive \u001B[38;5;241m=\u001B[39m \u001B[38;5;28;01mTrue\u001B[39;00m\n",
      "\u001B[1;31mModuleNotFoundError\u001B[0m: No module named 'google'"
     ]
    }
   ],
   "source": [
    "from google.colab import drive\n",
    "drive.mount('/content/drive')\n",
    "google_drive = True"
   ],
   "metadata": {
    "collapsed": false,
    "pycharm": {
     "name": "#%%\n"
    }
   }
  },
  {
   "cell_type": "code",
   "execution_count": 2,
   "outputs": [],
   "source": [
    "def print_results(name, my, networkx):\n",
    "  print(f\"{name}:\\n\\tOur implementation:\\t{my}\\n\\tNetworkX implementation:\\t{networkx}\")"
   ],
   "metadata": {
    "collapsed": false,
    "pycharm": {
     "name": "#%%\n"
    }
   }
  },
  {
   "cell_type": "markdown",
   "source": [],
   "metadata": {
    "collapsed": false,
    "pycharm": {
     "name": "#%% md\n"
    }
   }
  },
  {
   "cell_type": "markdown",
   "source": [
    "# Google"
   ],
   "metadata": {
    "collapsed": false,
    "pycharm": {
     "name": "#%% md\n"
    }
   }
  },
  {
   "cell_type": "code",
   "execution_count": 15,
   "outputs": [],
   "source": [
    "file_path = '/content/drive/MyDrive/datasets/web-Google.txt' if google_drive else 'google.txt'\n",
    "my_graph = google_directed(file_path)\n",
    "graphX=nx.DiGraph()\n",
    "graphX_undir = nx.Graph(graphX)\n",
    "elist=list(map(lambda e: e.to_tuple(), my_graph.get_all_edges()))\n",
    "graphX.add_edges_from(elist)"
   ],
   "metadata": {
    "collapsed": false,
    "pycharm": {
     "name": "#%%\n"
    }
   }
  },
  {
   "cell_type": "code",
   "execution_count": 16,
   "outputs": [
    {
     "name": "stdout",
     "output_type": "stream",
     "text": [
      "Слабая связность:\n",
      "\tOur implementation:\t0.0\n",
      "\tNetworkX implementation:\t0.0\n",
      "Сильная связность:\n",
      "\tOur implementation:\t0.0\n",
      "\tNetworkX implementation:\t0.0\n",
      "Главные характеристики:\n",
      "\tOur implementation:\t0.0\n",
      "\tNetworkX implementation:\t0.001009225845336914\n",
      "Треугольники:\n",
      "\tOur implementation:\t0.0\n",
      "\tNetworkX implementation:\t0.0\n"
     ]
    }
   ],
   "source": [
    "total_v = len(my_graph.get_all_vertices())\n",
    "total_e = my_graph.num_edges\n",
    "\n",
    "my_time = time.time()\n",
    "comps = weak_conns(my_graph)\n",
    "my_time = time.time() - my_time\n",
    "\n",
    "nx_time = time.time()\n",
    "compsX = list(nx.connected_components(graphX_undir))\n",
    "nx_time = time.time() - nx_time\n",
    "\n",
    "print_results(\"Слабая связность\", my_time, nx_time)\n",
    "\n",
    "my_time = time.time()\n",
    "strong_comps = strong_conns(my_graph)\n",
    "my_time = time.time() - my_time\n",
    "\n",
    "\n",
    "nx_time = time.time()\n",
    "s_compsX_max = nx.strongly_connected_components(graphX)\n",
    "nx_time = time.time() - nx_time\n",
    "\n",
    "print_results(\"Сильная связность\", my_time, nx_time)\n",
    "\n",
    "my_time = time.time()\n",
    "radius_diameter_percentile_my = evaluate_main_characteristics(my_graph, max(strong_comps))\n",
    "my_time = time.time() - my_time\n",
    "comps.sort(key=lambda x: len(x))\n",
    "graphs = split_graph(my_graph, comps)\n",
    "\n",
    "elist = list(map(lambda e: e.to_tuple(), graphs[-1].get_all_edges()))\n",
    "subgraphX = nx.Graph()\n",
    "subgraphX.add_edges_from(elist)\n",
    "\n",
    "nx_time = time.time()\n",
    "nx.diameter(subgraphX)\n",
    "# nx.radius(googleX.)\n",
    "nx_time = time.time() - nx_time\n",
    "\n",
    "print_results(\"Главные характеристики\", my_time, nx_time)\n",
    "\n",
    "my_time = time.time()\n",
    "num_of_triangles(my_graph)\n",
    "my_time = time.time() - my_time\n",
    "\n",
    "nx_time = time.time()\n",
    "nx.find_cliques(graphX)\n",
    "nx_time = time.time() - nx_time\n",
    "\n",
    "print_results(\"Треугольники\", my_time, nx_time)\n"
   ],
   "metadata": {
    "collapsed": false,
    "pycharm": {
     "name": "#%%\n"
    }
   }
  },
  {
   "cell_type": "code",
   "execution_count": null,
   "outputs": [],
   "source": [
    "file_path = '/content/drive/MyDrive/datasets/web-Google.txt' if google_drive else 'google.txt'\n",
    "my_graph = google_directed(file_path)\n",
    "graphX=nx.DiGraph()\n",
    "graphX_undir = nx.Graph(graphX)\n",
    "elist=list(map(lambda e: e.to_tuple(), my_graph.get_all_edges()))\n",
    "graphX.add_edges_from(elist)"
   ],
   "metadata": {
    "collapsed": false,
    "pycharm": {
     "name": "#%%\n"
    }
   }
  },
  {
   "cell_type": "code",
   "execution_count": null,
   "outputs": [],
   "source": [
    "total_v = len(my_graph.get_all_vertices())\n",
    "total_e = my_graph.num_edges\n",
    "\n",
    "my_time = time.time()\n",
    "comps = weak_conns(my_graph)\n",
    "my_time = time.time() - my_time\n",
    "\n",
    "nx_time = time.time()\n",
    "compsX = list(nx.connected_components(graphX_undir))\n",
    "nx_time = time.time() - nx_time\n",
    "\n",
    "print_results(\"Слабая связность\", my_time, nx_time)\n",
    "\n",
    "my_time = time.time()\n",
    "strong_comps = strong_conns(my_graph)\n",
    "my_time = time.time() - my_time\n",
    "\n",
    "\n",
    "nx_time = time.time()\n",
    "s_compsX_max = nx.strongly_connected_components(graphX)\n",
    "nx_time = time.time() - nx_time\n",
    "\n",
    "print_results(\"Сильная связность\", my_time, nx_time)\n",
    "\n",
    "my_time = time.time()\n",
    "radius_diameter_percentile_my = evaluate_main_characteristics(my_graph, max(strong_comps))\n",
    "my_time = time.time() - my_time\n",
    "comps.sort(key=lambda x: len(x))\n",
    "graphs = split_graph(my_graph, comps)\n",
    "\n",
    "elist = list(map(lambda e: e.to_tuple(), graphs[-1].get_all_edges()))\n",
    "subgraphX = nx.Graph()\n",
    "subgraphX.add_edges_from(elist)\n",
    "\n",
    "nx_time = time.time()\n",
    "nx.diameter(subgraphX)\n",
    "# nx.radius(googleX.)\n",
    "nx_time = time.time() - nx_time\n",
    "\n",
    "print_results(\"Главные характеристики\", my_time, nx_time)\n",
    "\n",
    "my_time = time.time()\n",
    "num_of_triangles(my_graph)\n",
    "my_time = time.time() - my_time\n",
    "\n",
    "nx_time = time.time()\n",
    "nx.find_cliques(graphX)\n",
    "nx_time = time.time() - nx_time\n",
    "\n",
    "print_results(\"Треугольники\", my_time, nx_time)\n"
   ],
   "metadata": {
    "collapsed": false,
    "pycharm": {
     "name": "#%%\n"
    }
   }
  },
  {
   "cell_type": "code",
   "execution_count": null,
   "outputs": [],
   "source": [
    "file_path = '/content/drive/MyDrive/datasets/web-Google.txt' if google_drive else 'google.txt'\n",
    "my_graph = google_directed(file_path)\n",
    "graphX=nx.DiGraph()\n",
    "graphX_undir = nx.Graph(graphX)\n",
    "elist=list(map(lambda e: e.to_tuple(), my_graph.get_all_edges()))\n",
    "graphX.add_edges_from(elist)"
   ],
   "metadata": {
    "collapsed": false,
    "pycharm": {
     "name": "#%%\n"
    }
   }
  },
  {
   "cell_type": "code",
   "execution_count": null,
   "outputs": [],
   "source": [
    "total_v = len(my_graph.get_all_vertices())\n",
    "total_e = my_graph.num_edges\n",
    "\n",
    "my_time = time.time()\n",
    "comps = weak_conns(my_graph)\n",
    "my_time = time.time() - my_time\n",
    "\n",
    "nx_time = time.time()\n",
    "compsX = list(nx.connected_components(graphX_undir))\n",
    "nx_time = time.time() - nx_time\n",
    "\n",
    "print_results(\"Слабая связность\", my_time, nx_time)\n",
    "\n",
    "my_time = time.time()\n",
    "strong_comps = strong_conns(my_graph)\n",
    "my_time = time.time() - my_time\n",
    "\n",
    "\n",
    "nx_time = time.time()\n",
    "s_compsX_max = nx.strongly_connected_components(graphX)\n",
    "nx_time = time.time() - nx_time\n",
    "\n",
    "print_results(\"Сильная связность\", my_time, nx_time)\n",
    "\n",
    "my_time = time.time()\n",
    "radius_diameter_percentile_my = evaluate_main_characteristics(my_graph, max(strong_comps))\n",
    "my_time = time.time() - my_time\n",
    "comps.sort(key=lambda x: len(x))\n",
    "graphs = split_graph(my_graph, comps)\n",
    "\n",
    "elist = list(map(lambda e: e.to_tuple(), graphs[-1].get_all_edges()))\n",
    "subgraphX = nx.Graph()\n",
    "subgraphX.add_edges_from(elist)\n",
    "\n",
    "nx_time = time.time()\n",
    "nx.diameter(subgraphX)\n",
    "# nx.radius(googleX.)\n",
    "nx_time = time.time() - nx_time\n",
    "\n",
    "print_results(\"Главные характеристики\", my_time, nx_time)\n",
    "\n",
    "my_time = time.time()\n",
    "num_of_triangles(my_graph)\n",
    "my_time = time.time() - my_time\n",
    "\n",
    "nx_time = time.time()\n",
    "nx.find_cliques(graphX)\n",
    "nx_time = time.time() - nx_time\n",
    "\n",
    "print_results(\"Треугольники\", my_time, nx_time)\n"
   ],
   "metadata": {
    "collapsed": false,
    "pycharm": {
     "name": "#%%\n"
    }
   }
  }
 ],
 "metadata": {
  "kernelspec": {
   "display_name": "Python 3",
   "language": "python",
   "name": "python3"
  },
  "language_info": {
   "codemirror_mode": {
    "name": "ipython",
    "version": 2
   },
   "file_extension": ".py",
   "mimetype": "text/x-python",
   "name": "python",
   "nbconvert_exporter": "python",
   "pygments_lexer": "ipython2",
   "version": "2.7.6"
  }
 },
 "nbformat": 4,
 "nbformat_minor": 0
}