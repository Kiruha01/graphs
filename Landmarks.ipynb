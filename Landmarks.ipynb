{
 "cells": [
  {
   "cell_type": "code",
   "execution_count": 1,
   "outputs": [],
   "source": [
    "from models import *\n",
    "from landmarks import *\n",
    "from import_dataset import *\n",
    "from utils import *\n",
    "import random\n",
    "import time"
   ],
   "metadata": {
    "collapsed": false,
    "pycharm": {
     "name": "#%%\n"
    }
   }
  },
  {
   "cell_type": "markdown",
   "source": [
    "# Basic"
   ],
   "metadata": {
    "collapsed": false,
    "pycharm": {
     "name": "#%% md\n"
    }
   }
  },
  {
   "cell_type": "code",
   "execution_count": 2,
   "outputs": [
    {
     "ename": "ValueError",
     "evalue": "too many values to unpack (expected 2)",
     "output_type": "error",
     "traceback": [
      "\u001B[0;31m---------------------------------------------------------------------------\u001B[0m",
      "\u001B[0;31mValueError\u001B[0m                                Traceback (most recent call last)",
      "File \u001B[0;32m~/github/graphs/import_dataset.py:30\u001B[0m, in \u001B[0;36mca_undirected\u001B[0;34m(filename)\u001B[0m\n\u001B[1;32m     29\u001B[0m \u001B[38;5;28;01mtry\u001B[39;00m:\n\u001B[0;32m---> 30\u001B[0m     u, v \u001B[38;5;241m=\u001B[39m new_line\u001B[38;5;241m.\u001B[39msplit(\u001B[38;5;124m\"\u001B[39m\u001B[38;5;130;01m\\t\u001B[39;00m\u001B[38;5;124m\"\u001B[39m)\n\u001B[1;32m     31\u001B[0m \u001B[38;5;28;01mexcept\u001B[39;00m \u001B[38;5;167;01mValueError\u001B[39;00m:\n",
      "\u001B[0;31mValueError\u001B[0m: not enough values to unpack (expected 2, got 1)",
      "\nDuring handling of the above exception, another exception occurred:\n",
      "\u001B[0;31mValueError\u001B[0m                                Traceback (most recent call last)",
      "Input \u001B[0;32mIn [2]\u001B[0m, in \u001B[0;36m<cell line: 1>\u001B[0;34m()\u001B[0m\n\u001B[0;32m----> 1\u001B[0m gg \u001B[38;5;241m=\u001B[39m \u001B[43mca_undirected\u001B[49m\u001B[43m(\u001B[49m\u001B[38;5;124;43m'\u001B[39;49m\u001B[38;5;124;43mdatasets-2/soc-wiki-Vote.mtx\u001B[39;49m\u001B[38;5;124;43m'\u001B[39;49m\u001B[43m)\u001B[49m\n",
      "File \u001B[0;32m~/github/graphs/import_dataset.py:32\u001B[0m, in \u001B[0;36mca_undirected\u001B[0;34m(filename)\u001B[0m\n\u001B[1;32m     30\u001B[0m             u, v \u001B[38;5;241m=\u001B[39m new_line\u001B[38;5;241m.\u001B[39msplit(\u001B[38;5;124m\"\u001B[39m\u001B[38;5;130;01m\\t\u001B[39;00m\u001B[38;5;124m\"\u001B[39m)\n\u001B[1;32m     31\u001B[0m         \u001B[38;5;28;01mexcept\u001B[39;00m \u001B[38;5;167;01mValueError\u001B[39;00m:\n\u001B[0;32m---> 32\u001B[0m             u, v \u001B[38;5;241m=\u001B[39m new_line\u001B[38;5;241m.\u001B[39msplit(\u001B[38;5;124m\"\u001B[39m\u001B[38;5;124m \u001B[39m\u001B[38;5;124m\"\u001B[39m)\n\u001B[1;32m     33\u001B[0m         graph\u001B[38;5;241m.\u001B[39madd_edge(\u001B[38;5;28mint\u001B[39m(u), \u001B[38;5;28mint\u001B[39m(v))\n\u001B[1;32m     34\u001B[0m \u001B[38;5;28;01mreturn\u001B[39;00m graph\n",
      "\u001B[0;31mValueError\u001B[0m: too many values to unpack (expected 2)"
     ]
    }
   ],
   "source": [
    "\n",
    "gg = ca_undirected('datasets-2/soc-wiki-Vote.mtx')\n",
    "#\n",
    "# lnd = select_landmarks(gg, 300000, SelectLandmarksMethod.MAX_DEGREE)\n",
    "#\n",
    "# for i in lnd:\n",
    "#     gg.delete_vertex(i)\n",
    "#\n",
    "# wc = weak_conns(gg)\n",
    "#\n",
    "# grr = sorted(split_graph(gg, wc), key=lambda x: x.num_vertices)\n",
    "# grr[-1].num_vertices\n",
    "\n",
    "# wc = weak_conns(gg)\n",
    "# graps = sorted(split_graph(gg, wc), key=lambda x: x.num_vertices)\n",
    "#\n",
    "# graps[-1].num_vertices"
   ],
   "metadata": {
    "collapsed": false,
    "pycharm": {
     "name": "#%%\n"
    }
   }
  },
  {
   "cell_type": "code",
   "execution_count": 4,
   "outputs": [],
   "source": [
    "my_graph = graps[-1]\n",
    "\n",
    "lnd = select_landmarks(my_graph, 300000, SelectLandmarksMethod.MAX_DEGREE)"
   ],
   "metadata": {
    "collapsed": false,
    "pycharm": {
     "name": "#%%\n"
    }
   }
  },
  {
   "cell_type": "code",
   "execution_count": 5,
   "outputs": [],
   "source": [
    "for i in lnd:\n",
    "    my_graph.delete_vertex(i)\n",
    "\n",
    "wc = weak_conns(my_graph)\n",
    "\n",
    "grr = sorted(split_graph(my_graph, wc), key=lambda x: x.num_vertices)\n",
    "grr[-1].num_vertices\n",
    "my_graph = grr[-1]"
   ],
   "metadata": {
    "collapsed": false,
    "pycharm": {
     "name": "#%%\n"
    }
   }
  },
  {
   "cell_type": "code",
   "execution_count": 3,
   "outputs": [],
   "source": [
    "import pickle\n",
    "\n",
    "with open(\"google_404_v\", \"wb\") as f:\n",
    "    pickle.dump(my_graph, f)"
   ],
   "metadata": {
    "collapsed": false,
    "pycharm": {
     "name": "#%%\n"
    }
   }
  },
  {
   "cell_type": "code",
   "execution_count": 5,
   "outputs": [],
   "source": [
    "my_graph = grr[-1]"
   ],
   "metadata": {
    "collapsed": false,
    "pycharm": {
     "name": "#%%\n"
    }
   }
  },
  {
   "cell_type": "code",
   "execution_count": 7,
   "outputs": [
    {
     "name": "stdout",
     "output_type": "stream",
     "text": [
      "207334 94438\n",
      "Exact method: 0.0009043216705322266 s. - 5\n"
     ]
    }
   ],
   "source": [
    "START_VER, END_VER = random.sample(tuple(my_graph.get_all_vertices()), 2)\n",
    "print(START_VER, END_VER)\n",
    "\n",
    "t = time.time()\n",
    "tree = get_shortest_path_lengths(my_graph, START_VER, my_graph.get_all_vertices())\n",
    "t = time.time() - t\n",
    "\n",
    "exact_len = tree[END_VER]\n",
    "print(f\"Exact method: {t} s. - {exact_len}\")\n",
    "\n",
    "def foo(implementation, count, method):\n",
    "    land = implementation(my_graph, count, method)\n",
    "    return land.distance(START_VER, END_VER)"
   ],
   "metadata": {
    "collapsed": false,
    "pycharm": {
     "name": "#%%\n"
    }
   }
  },
  {
   "cell_type": "code",
   "execution_count": 8,
   "outputs": [
    {
     "name": "stdout",
     "output_type": "stream",
     "text": [
      ">>> LANDMARKS_NUM 3\n",
      "BASIC, random method: 0.0016832351684570312 s. 31\n",
      "BASIC, max degree method: 0.0015609264373779297 s. 13\n",
      "BASIC, best coverage: 1.254847764968872 s. 9\n",
      ">>> LANDMARKS_NUM 13\n",
      "BASIC, random method: 0.006864309310913086 s. 6\n",
      "BASIC, max degree method: 0.0071718692779541016 s. 9\n",
      "BASIC, best coverage: 0.9432282447814941 s. 8\n",
      ">>> LANDMARKS_NUM 23\n",
      "BASIC, random method: 0.01576709747314453 s. 7\n",
      "BASIC, max degree method: 0.01318812370300293 s. 9\n",
      "BASIC, best coverage: 0.9937434196472168 s. 5\n",
      ">>> LANDMARKS_NUM 50\n",
      "BASIC, random method: 0.027124643325805664 s. 5\n",
      "BASIC, max degree method: 0.026140213012695312 s. 5\n",
      "BASIC, best coverage: 0.8437464237213135 s. 7\n",
      ">>> LANDMARKS_NUM 100\n",
      "BASIC, random method: 0.05483889579772949 s. 5\n",
      "BASIC, max degree method: 0.060927629470825195 s. 5\n",
      "BASIC, best coverage: 1.0298118591308594 s. 5\n",
      ">>> LANDMARKS_NUM 200\n",
      "BASIC, random method: 0.12477946281433105 s. 5\n",
      "BASIC, max degree method: 0.10542678833007812 s. 5\n",
      "BASIC, best coverage: 0.9881625175476074 s. 5\n",
      ">>> LANDMARKS_NUM 400\n",
      "BASIC, random method: 0.3035314083099365 s. 5\n",
      "BASIC, max degree method: 0.25403308868408203 s. 5\n",
      "BASIC, best coverage: 1.0246937274932861 s. 5\n"
     ]
    }
   ],
   "source": [
    "LANDMARKS_NUM = 3\n",
    "\n",
    "for LANDMARKS_NUM in (3, 13, 23, 50, 100, 200, 400):\n",
    "\n",
    "    print(\">>> LANDMARKS_NUM\", LANDMARKS_NUM)\n",
    "\n",
    "    t = time.time()\n",
    "    path = foo(LandmarksBasic, LANDMARKS_NUM, SelectLandmarksMethod.RANDOM)\n",
    "    t = time.time() - t\n",
    "\n",
    "    print(f\"BASIC, random method: {t} s. {path}\")\n",
    "\n",
    "    t = time.time()\n",
    "    path = foo(LandmarksBasic, LANDMARKS_NUM, SelectLandmarksMethod.MAX_DEGREE)\n",
    "    t = time.time() - t\n",
    "\n",
    "    print(f\"BASIC, max degree method: {t} s. {path}\")\n",
    "\n",
    "    t = time.time()\n",
    "    path = foo(LandmarksBasic, LANDMARKS_NUM, SelectLandmarksMethod.BEST_COVERAGE)\n",
    "    t = time.time() - t\n",
    "\n",
    "    print(f\"BASIC, best coverage: {t} s. {path}\")\n",
    "\n",
    "\n"
   ],
   "metadata": {
    "collapsed": false,
    "pycharm": {
     "name": "#%%\n"
    }
   }
  },
  {
   "cell_type": "code",
   "execution_count": null,
   "outputs": [],
   "source": [],
   "metadata": {
    "collapsed": false,
    "pycharm": {
     "name": "#%%\n"
    }
   }
  },
  {
   "cell_type": "code",
   "execution_count": null,
   "outputs": [],
   "source": [],
   "metadata": {
    "collapsed": false,
    "pycharm": {
     "name": "#%%\n"
    }
   }
  }
 ],
 "metadata": {
  "kernelspec": {
   "display_name": "Python 3",
   "language": "python",
   "name": "python3"
  },
  "language_info": {
   "codemirror_mode": {
    "name": "ipython",
    "version": 2
   },
   "file_extension": ".py",
   "mimetype": "text/x-python",
   "name": "python",
   "nbconvert_exporter": "python",
   "pygments_lexer": "ipython2",
   "version": "2.7.6"
  }
 },
 "nbformat": 4,
 "nbformat_minor": 0
}