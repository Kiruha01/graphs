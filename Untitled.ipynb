{
 "cells": [
  {
   "cell_type": "markdown",
   "metadata": {
    "id": "view-in-github",
    "colab_type": "text"
   },
   "source": [
    "<a href=\"https://colab.research.google.com/github/Kiruha01/graphs/blob/master/Untitled.ipynb\" target=\"_parent\"><img src=\"https://colab.research.google.com/assets/colab-badge.svg\" alt=\"Open In Colab\"/></a>"
   ]
  },
  {
   "cell_type": "code",
   "execution_count": 2,
   "outputs": [],
   "source": [
    "import networkx as nx\n",
    "from import_dataset import google_directed, ca_undirected, vk_undirected\n",
    "from utils import *\n",
    "from matplotlib import pyplot as plt\n",
    "google_drive = False"
   ],
   "metadata": {
    "collapsed": false,
    "pycharm": {
     "name": "#%%\n"
    }
   }
  },
  {
   "cell_type": "code",
   "execution_count": null,
   "outputs": [],
   "source": [
    "from google.colab import drive\n",
    "drive.mount('/content/drive')\n",
    "google_drive = True"
   ],
   "metadata": {
    "collapsed": false,
    "pycharm": {
     "name": "#%%\n"
    }
   }
  },
  {
   "cell_type": "markdown",
   "source": [
    "## Google"
   ],
   "metadata": {
    "collapsed": false,
    "pycharm": {
     "name": "#%% md\n"
    }
   }
  },
  {
   "cell_type": "code",
   "execution_count": 3,
   "outputs": [
    {
     "data": {
      "text/plain": "<Figure size 432x288 with 1 Axes>",
      "image/png": "[encoded data removed]"
     },
     "metadata": {},
     "output_type": "display_data"
    }
   ],
   "source": [
    "file_path = '/content/drive/MyDrive/datasets/web-Google.txt' if google_drive else 'google.txt'\n",
    "google_graph = google_directed(file_path)\n",
    "\n",
    "if not google_drive:\n",
    "  G=nx.DiGraph()\n",
    "  elist=list(map(lambda e: e.to_tuple(), google_graph.get_all_edges()))\n",
    "  G.add_edges_from(elist)\n",
    "  nx.draw(G, with_labels=True)"
   ],
   "metadata": {
    "collapsed": false,
    "pycharm": {
     "name": "#%%\n"
    }
   }
  },
  {
   "cell_type": "code",
   "execution_count": 4,
   "outputs": [
    {
     "name": "stdout",
     "output_type": "stream",
     "text": [
      "v: 14, e: 17\n",
      "part: 0.046703296703296704\n",
      "Слабая связность [[3, 6, 8, 9, 10, 11, 12, 7, 5, 4, 2, 1], [14, 13]]\n",
      "Доля вершин: 0.8571428571428571\n",
      "Сильная связность:  [{1, 2, 3, 5, 6, 7, 8, 9, 10, 11, 12}, {4}, {13, 14}]\n",
      "Доля вершин: 0.7857142857142857\n",
      "Радиус:  3\n",
      "Диаметр:  5\n",
      "90 процентиль расстояния:  5\n"
     ]
    }
   ],
   "source": [
    "total_v = len(google_graph.get_all_vertices())\n",
    "total_e = google_graph.num_edges\n",
    "print(f\"v: {total_v}, e: {total_e}\")\n",
    "print(\"part:\", total_e / (2 * (total_v ** 2 - total_v)))\n",
    "\n",
    "comps = weak_conns(google_graph)\n",
    "print(\"Слабая связность\", comps)\n",
    "max_weak_comp = max(comps, key=len)\n",
    "print(\"Доля вершин:\", len(max_weak_comp) / total_v)\n",
    "\n",
    "strong_comps = strong_conns(google_graph)\n",
    "print(\"Сильная связность: \", strong_comps)\n",
    "max_strong_comp = max(strong_comps, key=len)\n",
    "print(\"Доля вершин:\", len(max_strong_comp) / total_v)\n",
    "\n",
    "radius, diameter, percentile = evaluate_main_characteristics(google_graph, max_weak_comp)\n",
    "print(\"Радиус: \", radius)\n",
    "print(\"Диаметр: \", diameter)\n",
    "print(\"90 процентиль расстояния: \", percentile)"
   ],
   "metadata": {
    "collapsed": false,
    "pycharm": {
     "name": "#%%\n"
    }
   }
  },
  {
   "cell_type": "code",
   "execution_count": 5,
   "outputs": [
    {
     "name": "stdout",
     "output_type": "stream",
     "text": [
      "Число треугольников: 1\n",
      "Средний кластреный коэффициент: 0.10714285714285714\n",
      "Глобальный кластреный коэффициент: 0.125\n"
     ]
    }
   ],
   "source": [
    "print(f\"Число треугольников: {num_of_triangles(google_graph)}\")\n",
    "avg, glob = average_and_global_cluster_coefficients(google_graph)\n",
    "print(f\"Средний кластреный коэффициент: {avg}\")\n",
    "print(f\"Глобальный кластреный коэффициент: {glob}\")"
   ],
   "metadata": {
    "collapsed": false,
    "pycharm": {
     "name": "#%%\n"
    }
   }
  },
  {
   "cell_type": "code",
   "execution_count": 6,
   "outputs": [
    {
     "name": "stdout",
     "output_type": "stream",
     "text": [
      "MAX: 4\n",
      "MIN: 1\n",
      "avg: 2.142857142857143\n"
     ]
    }
   ],
   "source": [
    "d = evaluate_vertices_degree(google_graph)\n",
    "print(\"MAX:\", max(d.keys()))\n",
    "print(\"MIN:\", min(d.keys()))\n",
    "sum = 0\n",
    "for i in d.items():\n",
    "\tsum += i[0]*len(i[1])\n",
    "print(\"avg:\", sum/total_v)\n",
    "\n",
    "x, y = [], []\n",
    "sum = 0\n",
    "for item in  sorted(d.items()):\n",
    "\tx.append(item[0])\n",
    "\tsum += len(item[1])/total_v\n",
    "\ty.append(sum)\n"
   ],
   "metadata": {
    "collapsed": false,
    "pycharm": {
     "name": "#%%\n"
    }
   }
  },
  {
   "cell_type": "code",
   "execution_count": 7,
   "outputs": [
    {
     "data": {
      "text/plain": "[<matplotlib.lines.Line2D at 0x220fbfed300>]"
     },
     "execution_count": 7,
     "metadata": {},
     "output_type": "execute_result"
    },
    {
     "data": {
      "text/plain": "<Figure size 432x288 with 1 Axes>",
      "image/png": "[encoded data removed]"
     },
     "metadata": {
      "needs_background": "light"
     },
     "output_type": "display_data"
    }
   ],
   "source": [
    "plt.step(x, y, where='post')"
   ],
   "metadata": {
    "collapsed": false,
    "pycharm": {
     "name": "#%%\n"
    }
   }
  },
  {
   "cell_type": "code",
   "execution_count": 8,
   "outputs": [
    {
     "data": {
      "text/plain": "[<matplotlib.lines.Line2D at 0x220fc05d9c0>]"
     },
     "execution_count": 8,
     "metadata": {},
     "output_type": "execute_result"
    },
    {
     "data": {
      "text/plain": "<Figure size 432x288 with 1 Axes>",
      "image/png": "[encoded data removed]"
     },
     "metadata": {
      "needs_background": "light"
     },
     "output_type": "display_data"
    }
   ],
   "source": [
    "plt.yscale('log')\n",
    "plt.xscale('log')\n",
    "plt.step(x, y, where='post')"
   ],
   "metadata": {
    "collapsed": false,
    "pycharm": {
     "name": "#%%\n"
    }
   }
  },
  {
   "cell_type": "markdown",
   "source": [
    "### Мета-граф"
   ],
   "metadata": {
    "collapsed": false,
    "pycharm": {
     "name": "#%% md\n"
    }
   }
  },
  {
   "cell_type": "code",
   "execution_count": 9,
   "outputs": [
    {
     "data": {
      "text/plain": "<Figure size 432x288 with 1 Axes>",
      "image/png": "[encoded data removed]"
     },
     "metadata": {},
     "output_type": "display_data"
    }
   ],
   "source": [
    "component_links = []\n",
    "for c in strong_comps:\n",
    "\tcomponent_links.append(set())\n",
    "\tfor ver in c:\n",
    "\t\tcomponent_links[-1].update({edge.end for edge in google_graph.outgoing_adj_list[ver]})\n",
    "\tcomponent_links[-1] = component_links[-1].difference(set(c))\n",
    "\n",
    "elist=[]\n",
    "for idx, comp in enumerate(strong_comps):\n",
    "\tfirst_node = \",\".join(map(str, comp))\n",
    "\tend_nodes = set()\n",
    "\tfor z in component_links[idx]:\n",
    "\t\tend_nodes.add(\",\".join(map(str, [i for i in strong_comps if z in i][0])))\n",
    "\n",
    "\tfor z in end_nodes:\n",
    "\t\telist.append((first_node, z))\n",
    "\n",
    "G=nx.Graph()\n",
    "G.add_edges_from(elist)\n",
    "nx.draw(G,with_labels=True, node_size=1000)"
   ],
   "metadata": {
    "collapsed": false,
    "pycharm": {
     "name": "#%%\n"
    }
   }
  },
  {
   "cell_type": "markdown",
   "source": [
    "## CA"
   ],
   "metadata": {
    "collapsed": false,
    "pycharm": {
     "name": "#%% md\n"
    }
   }
  },
  {
   "cell_type": "code",
   "execution_count": 10,
   "outputs": [
    {
     "data": {
      "text/plain": "<Figure size 432x288 with 1 Axes>",
      "image/png": "[encoded data removed]"
     },
     "metadata": {},
     "output_type": "display_data"
    }
   ],
   "source": [
    "file_path = '/content/drive/MyDrive/datasets/CA-AstroPh.txt' if google_drive else 'ca.txt'\n",
    "ca_graph = ca_undirected(file_path)\n",
    "\n",
    "if not google_drive:\n",
    "  G=nx.Graph()\n",
    "  elist=list(map(lambda e: e.to_tuple(), ca_graph.get_all_edges()))\n",
    "  G.add_edges_from(elist)\n",
    "  nx.draw(G, with_labels=True)"
   ],
   "metadata": {
    "collapsed": false,
    "pycharm": {
     "name": "#%%\n"
    }
   }
  },
  {
   "cell_type": "code",
   "execution_count": 11,
   "outputs": [
    {
     "name": "stdout",
     "output_type": "stream",
     "text": [
      "v: 7, e: 22\n",
      "part: 0.2619047619047619\n",
      "Слабая связность [[5, 4, 6, 7, 3, 2, 1]]\n",
      "Доля вершин: 1.0\n",
      "Радиус:  2\n",
      "Диаметр:  2\n",
      "90 процентиль расстояния:  2\n"
     ]
    }
   ],
   "source": [
    "total_v = len(ca_graph.get_all_vertices())\n",
    "total_e = ca_graph.num_edges\n",
    "print(f\"v: {total_v}, e: {total_e}\")\n",
    "print(\"part:\", total_e / (2 * (total_v ** 2 - total_v)))\n",
    "\n",
    "comps = weak_conns(ca_graph)\n",
    "print(\"Слабая связность\", comps)\n",
    "max_comp = max(comps, key=len)\n",
    "print(\"Доля вершин:\", len(max_comp) / total_v)\n",
    "\n",
    "radius, diameter, percentile = evaluate_main_characteristics(ca_graph, max_comp)\n",
    "print(\"Радиус: \", radius)\n",
    "print(\"Диаметр: \", diameter)\n",
    "print(\"90 процентиль расстояния: \", percentile)"
   ],
   "metadata": {
    "collapsed": false,
    "pycharm": {
     "name": "#%%\n"
    }
   }
  },
  {
   "cell_type": "code",
   "execution_count": 12,
   "outputs": [
    {
     "name": "stdout",
     "output_type": "stream",
     "text": [
      "Число треугольников: 5\n",
      "Средний кластреный коэффициент: 0.6047619047619047\n",
      "Глобальный кластреный коэффициент: 0.5555555555555556\n"
     ]
    }
   ],
   "source": [
    "print(f\"Число треугольников: {num_of_triangles(ca_graph)}\")\n",
    "avg, glob = average_and_global_cluster_coefficients(ca_graph)\n",
    "print(f\"Средний кластреный коэффициент: {avg}\")\n",
    "print(f\"Глобальный кластреный коэффициент: {glob}\")"
   ],
   "metadata": {
    "collapsed": false,
    "pycharm": {
     "name": "#%%\n"
    }
   }
  },
  {
   "cell_type": "code",
   "execution_count": 13,
   "outputs": [
    {
     "name": "stdout",
     "output_type": "stream",
     "text": [
      "MAX: 5\n",
      "MIN: 2\n",
      "avg: 3.142857142857143\n"
     ]
    }
   ],
   "source": [
    "d = evaluate_vertices_degree(ca_graph)\n",
    "print(\"MAX:\", max(d.keys()))\n",
    "print(\"MIN:\", min(d.keys()))\n",
    "sum = 0\n",
    "for i in d.items():\n",
    "\tsum += i[0]*len(i[1])\n",
    "print(\"avg:\", sum/total_v)\n",
    "\n",
    "x, y = [], []\n",
    "sum = 0\n",
    "for item in  sorted(d.items()):\n",
    "\tx.append(item[0])\n",
    "\tsum += len(item[1])/total_v\n",
    "\ty.append(sum)"
   ],
   "metadata": {
    "collapsed": false,
    "pycharm": {
     "name": "#%%\n"
    }
   }
  },
  {
   "cell_type": "code",
   "execution_count": 14,
   "outputs": [
    {
     "data": {
      "text/plain": "[<matplotlib.lines.Line2D at 0x220fd325570>]"
     },
     "execution_count": 14,
     "metadata": {},
     "output_type": "execute_result"
    },
    {
     "data": {
      "text/plain": "<Figure size 432x288 with 1 Axes>",
      "image/png": "[encoded data removed]"
     },
     "metadata": {
      "needs_background": "light"
     },
     "output_type": "display_data"
    }
   ],
   "source": [
    "plt.step(x, y, where='post')"
   ],
   "metadata": {
    "collapsed": false,
    "pycharm": {
     "name": "#%%\n"
    }
   }
  },
  {
   "cell_type": "code",
   "execution_count": 15,
   "outputs": [
    {
     "data": {
      "text/plain": "[<matplotlib.lines.Line2D at 0x220fd385930>]"
     },
     "execution_count": 15,
     "metadata": {},
     "output_type": "execute_result"
    },
    {
     "data": {
      "text/plain": "<Figure size 432x288 with 1 Axes>",
      "image/png": "[encoded data removed]"
     },
     "metadata": {
      "needs_background": "light"
     },
     "output_type": "display_data"
    }
   ],
   "source": [
    "plt.yscale('log')\n",
    "plt.xscale('log')\n",
    "plt.step(x, y, where='post')"
   ],
   "metadata": {
    "collapsed": false,
    "pycharm": {
     "name": "#%%\n"
    }
   }
  },
  {
   "cell_type": "markdown",
   "source": [
    "## VK"
   ],
   "metadata": {
    "collapsed": false,
    "pycharm": {
     "name": "#%% md\n"
    }
   }
  },
  {
   "cell_type": "code",
   "execution_count": 16,
   "outputs": [
    {
     "data": {
      "text/plain": "<Figure size 432x288 with 1 Axes>",
      "image/png": "[encoded data removed]"
     },
     "metadata": {},
     "output_type": "display_data"
    }
   ],
   "source": [
    "file_path = '/content/drive/MyDrive/datasets/vk.csv' if google_drive else 'vk.csv'\n",
    "vk_graph = vk_undirected(file_path)\n",
    "\n",
    "if not google_drive:\n",
    "  G=nx.Graph()\n",
    "  elist=list(map(lambda e: e.to_tuple(), vk_graph.get_all_edges()))\n",
    "  G.add_weighted_edges_from(elist)\n",
    "  nx.draw(G, with_labels=True)"
   ],
   "metadata": {
    "collapsed": false,
    "pycharm": {
     "name": "#%%\n"
    }
   }
  },
  {
   "cell_type": "code",
   "execution_count": 17,
   "outputs": [
    {
     "name": "stdout",
     "output_type": "stream",
     "text": [
      "v: 9, e: 16\n",
      "part: 0.1111111111111111\n",
      "Слабая связность [[3, 4, 2, 6, 5, 1], [8, 9, 7]]\n",
      "Доля вершин: 0.6666666666666666\n",
      "Радиус:  2\n",
      "Диаметр:  3\n",
      "90 процентиль расстояния:  3\n"
     ]
    }
   ],
   "source": [
    "total_v = len(vk_graph.get_all_vertices())\n",
    "total_e = vk_graph.num_edges\n",
    "print(f\"v: {total_v}, e: {total_e}\")\n",
    "print(\"part:\", total_e / (2 * (total_v ** 2 - total_v)))\n",
    "\n",
    "comps = weak_conns(vk_graph)\n",
    "print(\"Слабая связность\", comps)\n",
    "max_comp = max(comps, key=len)\n",
    "print(\"Доля вершин:\", len(max_comp) / total_v)\n",
    "\n",
    "radius, diameter, percentile = evaluate_main_characteristics(google_graph, max_comp)\n",
    "print(\"Радиус: \", radius)\n",
    "print(\"Диаметр: \", diameter)\n",
    "print(\"90 процентиль расстояния: \", percentile)"
   ],
   "metadata": {
    "collapsed": false,
    "pycharm": {
     "name": "#%%\n"
    }
   }
  },
  {
   "cell_type": "code",
   "execution_count": 18,
   "outputs": [
    {
     "name": "stdout",
     "output_type": "stream",
     "text": [
      "Число треугольников: 1\n",
      "Средний кластреный коэффициент: 0.25925925925925924\n",
      "Глобальный кластреный коэффициент: 0.375\n"
     ]
    }
   ],
   "source": [
    "print(f\"Число треугольников: {num_of_triangles(vk_graph)}\")\n",
    "avg, glob = average_and_global_cluster_coefficients(vk_graph)\n",
    "print(f\"Средний кластреный коэффициент: {avg}\")\n",
    "print(f\"Глобальный кластреный коэффициент: {glob}\")"
   ],
   "metadata": {
    "collapsed": false,
    "pycharm": {
     "name": "#%%\n"
    }
   }
  },
  {
   "cell_type": "code",
   "execution_count": 19,
   "outputs": [
    {
     "name": "stdout",
     "output_type": "stream",
     "text": [
      "MAX: 3\n",
      "MIN: 1\n",
      "avg: 1.7777777777777777\n"
     ]
    }
   ],
   "source": [
    "d = evaluate_vertices_degree(vk_graph)\n",
    "print(\"MAX:\", max(d.keys()))\n",
    "print(\"MIN:\", min(d.keys()))\n",
    "sum = 0\n",
    "for i in d.items():\n",
    "\tsum += i[0]*len(i[1])\n",
    "print(\"avg:\", sum/total_v)\n",
    "\n",
    "x, y = [], []\n",
    "sum = 0\n",
    "for item in  sorted(d.items()):\n",
    "\tx.append(item[0])\n",
    "\tsum += len(item[1])/total_v\n",
    "\ty.append(sum)"
   ],
   "metadata": {
    "collapsed": false,
    "pycharm": {
     "name": "#%%\n"
    }
   }
  },
  {
   "cell_type": "code",
   "execution_count": 20,
   "outputs": [
    {
     "data": {
      "text/plain": "[<matplotlib.lines.Line2D at 0x220f9e230d0>]"
     },
     "execution_count": 20,
     "metadata": {},
     "output_type": "execute_result"
    },
    {
     "data": {
      "text/plain": "<Figure size 432x288 with 1 Axes>",
      "image/png": "[encoded data removed]"
     },
     "metadata": {
      "needs_background": "light"
     },
     "output_type": "display_data"
    }
   ],
   "source": [
    "plt.step(x, y, where='post')"
   ],
   "metadata": {
    "collapsed": false,
    "pycharm": {
     "name": "#%%\n"
    }
   }
  },
  {
   "cell_type": "code",
   "execution_count": 21,
   "outputs": [
    {
     "data": {
      "text/plain": "[<matplotlib.lines.Line2D at 0x220fd9aa110>]"
     },
     "execution_count": 21,
     "metadata": {},
     "output_type": "execute_result"
    },
    {
     "data": {
      "text/plain": "<Figure size 432x288 with 1 Axes>",
      "image/png": "[encoded data removed]"
     },
     "metadata": {
      "needs_background": "light"
     },
     "output_type": "display_data"
    }
   ],
   "source": [
    "plt.yscale('log')\n",
    "plt.xscale('log')\n",
    "plt.step(x, y, where='post')"
   ],
   "metadata": {
    "collapsed": false,
    "pycharm": {
     "name": "#%%\n"
    }
   }
  }
 ],
 "metadata": {
  "kernelspec": {
   "display_name": "Python 3 (ipykernel)",
   "language": "python",
   "name": "python3"
  },
  "language_info": {
   "codemirror_mode": {
    "name": "ipython",
    "version": 3
   },
   "file_extension": ".py",
   "mimetype": "text/x-python",
   "name": "python",
   "nbconvert_exporter": "python",
   "pygments_lexer": "ipython3",
   "version": "3.10.4"
  },
  "colab": {
   "name": "Untitled.ipynb",
   "provenance": [],
   "include_colab_link": true
  }
 },
 "nbformat": 4,
 "nbformat_minor": 5
}