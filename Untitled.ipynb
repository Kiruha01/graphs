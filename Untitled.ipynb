{
 "cells": [
  {
   "cell_type": "markdown",
   "metadata": {
    "id": "view-in-github",
    "colab_type": "text"
   },
   "source": [
    "<a href=\"https://colab.research.google.com/github/Kiruha01/graphs/blob/master/Untitled.ipynb\" target=\"_parent\"><img src=\"https://colab.research.google.com/assets/colab-badge.svg\" alt=\"Open In Colab\"/></a>"
   ]
  },
  {
   "cell_type": "code",
   "execution_count": 1,
   "outputs": [],
   "source": [
    "import networkx as nx\n",
    "from import_dataset import google_directed, ca_undirected, vk_undirected\n",
    "from utils import *\n",
    "from matplotlib import pyplot as plt\n",
    "import pickle\n",
    "google_drive = False"
   ],
   "metadata": {
    "collapsed": false,
    "pycharm": {
     "name": "#%%\n"
    }
   }
  },
  {
   "cell_type": "markdown",
   "source": [
    "## Google Colab\n",
    "Run only on Google Colab"
   ],
   "metadata": {
    "collapsed": false,
    "pycharm": {
     "name": "#%% md\n"
    }
   }
  },
  {
   "cell_type": "code",
   "execution_count": 2,
   "outputs": [
    {
     "ename": "ModuleNotFoundError",
     "evalue": "No module named 'google'",
     "output_type": "error",
     "traceback": [
      "\u001B[1;31m---------------------------------------------------------------------------\u001B[0m",
      "\u001B[1;31mModuleNotFoundError\u001B[0m                       Traceback (most recent call last)",
      "Input \u001B[1;32mIn [2]\u001B[0m, in \u001B[0;36m<cell line: 1>\u001B[1;34m()\u001B[0m\n\u001B[1;32m----> 1\u001B[0m \u001B[38;5;28;01mfrom\u001B[39;00m \u001B[38;5;21;01mgoogle\u001B[39;00m\u001B[38;5;21;01m.\u001B[39;00m\u001B[38;5;21;01mcolab\u001B[39;00m \u001B[38;5;28;01mimport\u001B[39;00m drive\n\u001B[0;32m      2\u001B[0m drive\u001B[38;5;241m.\u001B[39mmount(\u001B[38;5;124m'\u001B[39m\u001B[38;5;124m/content/drive\u001B[39m\u001B[38;5;124m'\u001B[39m)\n\u001B[0;32m      4\u001B[0m \u001B[38;5;66;03m# Run when repo will be public\u001B[39;00m\n",
      "\u001B[1;31mModuleNotFoundError\u001B[0m: No module named 'google'"
     ]
    }
   ],
   "source": [
    "from google.colab import drive\n",
    "drive.mount('/content/drive')\n",
    "\n",
    "# Run when repo will be public\n",
    "!curl https://raw.githubusercontent.com/Kiruha01/graphs/master/utils.py --output functions.py\n",
    "!curl https://raw.githubusercontent.com/Kiruha01/graphs/master/import_dataset.py --output import_dataset.py\n",
    "!curl https://raw.githubusercontent.com/Kiruha01/graphs/master/models.py --output models.py\n",
    "\n",
    "google_drive = True"
   ],
   "metadata": {
    "collapsed": false,
    "pycharm": {
     "name": "#%%\n"
    }
   }
  },
  {
   "cell_type": "markdown",
   "source": [
    "## Google"
   ],
   "metadata": {
    "collapsed": false,
    "pycharm": {
     "name": "#%% md\n"
    }
   }
  },
  {
   "cell_type": "code",
   "execution_count": 3,
   "outputs": [
    {
     "data": {
      "text/plain": "<Figure size 432x288 with 1 Axes>",
      "image/png": "[encoded data removed]"
     },
     "metadata": {},
     "output_type": "display_data"
    }
   ],
   "source": [
    "file_path = '/content/drive/MyDrive/datasets/web-Google.txt' if google_drive else 'google.txt'\n",
    "google_graph = google_directed(file_path)\n",
    "\n",
    "if not google_drive:\n",
    "  G=nx.DiGraph()\n",
    "  elist=list(map(lambda e: e.to_tuple(), google_graph.get_all_edges()))\n",
    "  G.add_edges_from(elist)\n",
    "  nx.draw(G, with_labels=True)"
   ],
   "metadata": {
    "collapsed": false,
    "pycharm": {
     "name": "#%%\n"
    }
   }
  },
  {
   "cell_type": "code",
   "execution_count": 4,
   "outputs": [
    {
     "name": "stdout",
     "output_type": "stream",
     "text": [
      "v: 10, e: 15\n",
      "part: 0.08333333333333333\n",
      "Слабая связность [{1, 2, 3, 4, 5, 6, 7, 10}, {8, 9}]\n",
      "Доля вершин: 0.8\n",
      "Сильная связность:  [{8, 9}, {1, 10, 2}, {4, 6}, {3, 5}, {7}]\n",
      "Доля вершин: 0.3\n",
      "Радиус:  2\n",
      "Диаметр:  4\n",
      "90 процентиль расстояния:  4\n",
      "Число треугольников: 2\n",
      "Средний кластреный коэффициент: 0.2333333333333333\n",
      "Глобальный кластреный коэффициент: 0.2857142857142857\n",
      "MAX степень вершин: 4\n",
      "MIN степень вершин: 1\n",
      "avg степень вершин: 2.4\n"
     ]
    }
   ],
   "source": [
    "google_results = {}\n",
    "\n",
    "total_v = len(google_graph.get_all_vertices())\n",
    "total_e = google_graph.num_edges\n",
    "print(f\"v: {total_v}, e: {total_e}\")\n",
    "print(\"part:\", total_e / (2 * (total_v ** 2 - total_v)))\n",
    "\n",
    "comps = weak_conns(google_graph)\n",
    "print(\"Слабая связность\", len(comps))\n",
    "max_weak_comp = max(comps, key=len)\n",
    "print(\"Доля вершин:\", len(max_weak_comp) / total_v)\n",
    "\n",
    "strong_comps = strong_conns(google_graph)\n",
    "print(\"Сильная связность: \", len(strong_comps))\n",
    "max_strong_comp = max(strong_comps, key=len)\n",
    "print(\"Доля вершин:\", len(max_strong_comp) / total_v)\n",
    "\n",
    "radius, diameter, percentile = evaluate_main_characteristics(google_graph, max_weak_comp)\n",
    "print(\"Радиус: \", radius)\n",
    "print(\"Диаметр: \", diameter)\n",
    "print(\"90 процентиль расстояния: \", percentile)\n",
    "\n",
    "\n",
    "google_results['total_v'] = total_v\n",
    "google_results['total_e'] = total_e\n",
    "google_results['weak_comps'] = comps\n",
    "google_results['strong_comps'] = strong_comps\n",
    "google_results['radius'] = radius\n",
    "google_results['diameter'] = diameter\n",
    "google_results['percentile'] = percentile\n",
    "\n",
    "\n",
    "triangles = num_of_triangles(google_graph)\n",
    "print(f\"Число треугольников: {triangles}\")\n",
    "avg, glob = average_and_global_cluster_coefficients(google_graph)\n",
    "print(f\"Средний кластреный коэффициент: {avg}\")\n",
    "print(f\"Глобальный кластреный коэффициент: {glob}\")\n",
    "\n",
    "google_results['triangles'] = triangles\n",
    "google_results['avg_cluster'] = avg\n",
    "google_results['glob_cluster'] = glob\n",
    "\n",
    "\n",
    "d = evaluate_vertices_degree(google_graph)\n",
    "print(\"MAX степень вершин:\", max(d.keys()))\n",
    "print(\"MIN степень вершин:\", min(d.keys()))\n",
    "sum = 0\n",
    "for i in d.items():\n",
    "\tsum += i[0]*len(i[1])\n",
    "print(\"avg степень вершин:\", sum/total_v)\n",
    "\n",
    "google_results['max_degree'] =  max(d.keys())\n",
    "google_results['min_degree'] =  min(d.keys())\n",
    "google_results['avg_degree'] =  sum/total_v\n",
    "\n",
    "\n",
    "x, y = [], []\n",
    "sum = 0\n",
    "for item in  sorted(d.items()):\n",
    "\tx.append(item[0])\n",
    "\tsum += len(item[1])/total_v\n",
    "\ty.append(sum)\n",
    "\n",
    "\n",
    "with open('google_results.pickle', 'wb') as f:\n",
    "\tpickle.dump(google_results, f)"
   ],
   "metadata": {
    "collapsed": false,
    "pycharm": {
     "name": "#%%\n"
    }
   }
  },
  {
   "cell_type": "code",
   "execution_count": 6,
   "outputs": [
    {
     "data": {
      "text/plain": "[<matplotlib.lines.Line2D at 0x2bb1f862bc0>]"
     },
     "execution_count": 6,
     "metadata": {},
     "output_type": "execute_result"
    },
    {
     "data": {
      "text/plain": "<Figure size 432x288 with 1 Axes>",
      "image/png": "[encoded data removed]"
     },
     "metadata": {
      "needs_background": "light"
     },
     "output_type": "display_data"
    }
   ],
   "source": [
    "plt.step(x, y, where='post')"
   ],
   "metadata": {
    "collapsed": false,
    "pycharm": {
     "name": "#%%\n"
    }
   }
  },
  {
   "cell_type": "code",
   "execution_count": 7,
   "outputs": [
    {
     "data": {
      "text/plain": "[<matplotlib.lines.Line2D at 0x2bb1f865f30>]"
     },
     "execution_count": 7,
     "metadata": {},
     "output_type": "execute_result"
    },
    {
     "data": {
      "text/plain": "<Figure size 432x288 with 1 Axes>",
      "image/png": "[encoded data removed]"
     },
     "metadata": {
      "needs_background": "light"
     },
     "output_type": "display_data"
    }
   ],
   "source": [
    "plt.yscale('log')\n",
    "plt.xscale('log')\n",
    "plt.step(x, y, where='post')"
   ],
   "metadata": {
    "collapsed": false,
    "pycharm": {
     "name": "#%%\n"
    }
   }
  },
  {
   "cell_type": "markdown",
   "source": [
    "### B.\n",
    "1. Удаление случайных x% вершин"
   ],
   "metadata": {
    "collapsed": false,
    "pycharm": {
     "name": "#%% md\n"
    }
   }
  },
  {
   "cell_type": "code",
   "execution_count": 8,
   "outputs": [
    {
     "data": {
      "text/plain": "[<matplotlib.lines.Line2D at 0x2bb21ca7fd0>]"
     },
     "execution_count": 8,
     "metadata": {},
     "output_type": "execute_result"
    },
    {
     "data": {
      "text/plain": "<Figure size 432x288 with 1 Axes>",
      "image/png": "[encoded data removed]"
     },
     "metadata": {
      "needs_background": "light"
     },
     "output_type": "display_data"
    }
   ],
   "source": [
    "x, y = get_proportions_after_vertices_removal(google_graph)\n",
    "plt.plot(x, y)"
   ],
   "metadata": {
    "collapsed": false,
    "pycharm": {
     "name": "#%%\n"
    }
   }
  },
  {
   "cell_type": "markdown",
   "source": [
    "2. Удаление случайных x% вершин наибольшей степени"
   ],
   "metadata": {
    "collapsed": false,
    "pycharm": {
     "name": "#%% md\n"
    }
   }
  },
  {
   "cell_type": "code",
   "execution_count": 9,
   "outputs": [
    {
     "data": {
      "text/plain": "[<matplotlib.lines.Line2D at 0x2bb21cecf40>]"
     },
     "execution_count": 9,
     "metadata": {},
     "output_type": "execute_result"
    },
    {
     "data": {
      "text/plain": "<Figure size 432x288 with 1 Axes>",
      "image/png": "[encoded data removed]"
     },
     "metadata": {
      "needs_background": "light"
     },
     "output_type": "display_data"
    }
   ],
   "source": [
    "x, y = get_proportions_after_vertices_removal(google_graph, del_only_max_degree=True)\n",
    "plt.plot(x, y)"
   ],
   "metadata": {
    "collapsed": false,
    "pycharm": {
     "name": "#%%\n"
    }
   }
  },
  {
   "cell_type": "markdown",
   "source": [
    "### Мета-граф"
   ],
   "metadata": {
    "collapsed": false,
    "pycharm": {
     "name": "#%% md\n"
    }
   }
  },
  {
   "cell_type": "code",
   "execution_count": 10,
   "outputs": [
    {
     "data": {
      "text/plain": "<Figure size 432x288 with 1 Axes>",
      "image/png": "[encoded data removed]"
     },
     "metadata": {},
     "output_type": "display_data"
    }
   ],
   "source": [
    "component_links = []\n",
    "for c in strong_comps:\n",
    "\tcomponent_links.append(set())\n",
    "\tfor ver in c:\n",
    "\t\tcomponent_links[-1].update({edge.end for edge in google_graph.outgoing_adj_list[ver]})\n",
    "\tcomponent_links[-1] = component_links[-1].difference(set(c))\n",
    "\n",
    "elist=[]\n",
    "for idx, comp in enumerate(strong_comps):\n",
    "\tfirst_node = \",\".join(map(str, comp))\n",
    "\tend_nodes = set()\n",
    "\tfor z in component_links[idx]:\n",
    "\t\tend_nodes.add(\",\".join(map(str, [i for i in strong_comps if z in i][0])))\n",
    "\n",
    "\tfor z in end_nodes:\n",
    "\t\telist.append((first_node, z))\n",
    "\n",
    "G=nx.Graph()\n",
    "G.add_edges_from(elist)\n",
    "nx.draw(G,with_labels=True, node_size=1000)"
   ],
   "metadata": {
    "collapsed": false,
    "pycharm": {
     "name": "#%%\n"
    }
   }
  },
  {
   "cell_type": "markdown",
   "source": [
    "## CA"
   ],
   "metadata": {
    "collapsed": false,
    "pycharm": {
     "name": "#%% md\n"
    }
   }
  },
  {
   "cell_type": "code",
   "execution_count": 5,
   "outputs": [
    {
     "data": {
      "text/plain": "<Figure size 432x288 with 1 Axes>",
      "image/png": "[encoded data removed]"
     },
     "metadata": {},
     "output_type": "display_data"
    }
   ],
   "source": [
    "file_path = '/content/drive/MyDrive/datasets/CA-AstroPh.txt' if google_drive else 'ca.txt'\n",
    "ca_graph = ca_undirected(file_path)\n",
    "\n",
    "if not google_drive:\n",
    "  G=nx.Graph()\n",
    "  elist=list(map(lambda e: e.to_tuple(), ca_graph.get_all_edges()))\n",
    "  G.add_edges_from(elist)\n",
    "  nx.draw(G, with_labels=True)"
   ],
   "metadata": {
    "collapsed": false,
    "pycharm": {
     "name": "#%%\n"
    }
   }
  },
  {
   "cell_type": "code",
   "execution_count": 6,
   "outputs": [
    {
     "name": "stdout",
     "output_type": "stream",
     "text": [
      "v: 7, e: 22\n",
      "part: 0.2619047619047619\n",
      "Слабая связность 1\n",
      "Доля вершин: 1.0\n",
      "Радиус:  2\n",
      "Диаметр:  2\n",
      "90 процентиль расстояния:  2\n",
      "Число треугольников: 5\n",
      "Средний кластреный коэффициент: 0.6047619047619047\n",
      "Глобальный кластреный коэффициент: 0.5555555555555556\n",
      "MAX степень вершин: 5\n",
      "MIN степень вершин: 2\n",
      "avg степень вершин: 3.142857142857143\n"
     ]
    }
   ],
   "source": [
    "ca_results = {}\n",
    "\n",
    "total_v = len(ca_graph.get_all_vertices())\n",
    "total_e = ca_graph.num_edges\n",
    "print(f\"v: {total_v}, e: {total_e}\")\n",
    "print(\"part:\", total_e / (2 * (total_v ** 2 - total_v)))\n",
    "\n",
    "comps = weak_conns(ca_graph)\n",
    "print(\"Слабая связность\", len(comps))\n",
    "max_weak_comp = max(comps, key=len)\n",
    "print(\"Доля вершин:\", len(max_weak_comp) / total_v)\n",
    "\n",
    "radius, diameter, percentile = evaluate_main_characteristics(ca_graph, max_weak_comp)\n",
    "print(\"Радиус: \", radius)\n",
    "print(\"Диаметр: \", diameter)\n",
    "print(\"90 процентиль расстояния: \", percentile)\n",
    "\n",
    "\n",
    "ca_results['total_v'] = total_v\n",
    "ca_results['total_e'] = total_e\n",
    "ca_results['weak_comps'] = comps\n",
    "ca_results['radius'] = radius\n",
    "ca_results['diameter'] = diameter\n",
    "ca_results['percentile'] = percentile\n",
    "\n",
    "\n",
    "triangles = num_of_triangles(ca_graph)\n",
    "print(f\"Число треугольников: {triangles}\")\n",
    "avg, glob = average_and_global_cluster_coefficients(ca_graph)\n",
    "print(f\"Средний кластреный коэффициент: {avg}\")\n",
    "print(f\"Глобальный кластреный коэффициент: {glob}\")\n",
    "\n",
    "ca_results['triangles'] = triangles\n",
    "ca_results['avg_cluster'] = avg\n",
    "ca_results['glob_cluster'] = glob\n",
    "\n",
    "\n",
    "d = evaluate_vertices_degree(ca_graph)\n",
    "print(\"MAX степень вершин:\", max(d.keys()))\n",
    "print(\"MIN степень вершин:\", min(d.keys()))\n",
    "sum = 0\n",
    "for i in d.items():\n",
    "\tsum += i[0]*len(i[1])\n",
    "print(\"avg степень вершин:\", sum/total_v)\n",
    "\n",
    "ca_results['max_degree'] =  max(d.keys())\n",
    "ca_results['min_degree'] =  min(d.keys())\n",
    "ca_results['avg_degree'] =  sum/total_v\n",
    "\n",
    "\n",
    "x, y = [], []\n",
    "sum = 0\n",
    "for item in  sorted(d.items()):\n",
    "\tx.append(item[0])\n",
    "\tsum += len(item[1])/total_v\n",
    "\ty.append(sum)\n",
    "\n",
    "\n",
    "with open('ca_results.pickle', 'wb') as f:\n",
    "\tpickle.dump(ca_results, f)"
   ],
   "metadata": {
    "collapsed": false,
    "pycharm": {
     "name": "#%%\n"
    }
   }
  },
  {
   "cell_type": "code",
   "execution_count": 7,
   "outputs": [
    {
     "data": {
      "text/plain": "[<matplotlib.lines.Line2D at 0x19674c3a260>]"
     },
     "execution_count": 7,
     "metadata": {},
     "output_type": "execute_result"
    },
    {
     "data": {
      "text/plain": "<Figure size 432x288 with 1 Axes>",
      "image/png": "[encoded data removed]"
     },
     "metadata": {
      "needs_background": "light"
     },
     "output_type": "display_data"
    }
   ],
   "source": [
    "plt.step(x, y, where='post')"
   ],
   "metadata": {
    "collapsed": false,
    "pycharm": {
     "name": "#%%\n"
    }
   }
  },
  {
   "cell_type": "code",
   "execution_count": 8,
   "outputs": [
    {
     "data": {
      "text/plain": "[<matplotlib.lines.Line2D at 0x196750dac50>]"
     },
     "execution_count": 8,
     "metadata": {},
     "output_type": "execute_result"
    },
    {
     "data": {
      "text/plain": "<Figure size 432x288 with 1 Axes>",
      "image/png": "[encoded data removed]"
     },
     "metadata": {
      "needs_background": "light"
     },
     "output_type": "display_data"
    }
   ],
   "source": [
    "plt.yscale('log')\n",
    "plt.xscale('log')\n",
    "plt.step(x, y, where='post')"
   ],
   "metadata": {
    "collapsed": false,
    "pycharm": {
     "name": "#%%\n"
    }
   }
  },
  {
   "cell_type": "markdown",
   "source": [
    "### B.\n",
    "1. Удаление случайных x% вершин"
   ],
   "metadata": {
    "collapsed": false,
    "pycharm": {
     "name": "#%% md\n"
    }
   }
  },
  {
   "cell_type": "code",
   "execution_count": 7,
   "outputs": [],
   "source": [],
   "metadata": {
    "collapsed": false,
    "pycharm": {
     "name": "#%%\n"
    }
   }
  },
  {
   "cell_type": "code",
   "execution_count": 21,
   "outputs": [
    {
     "data": {
      "text/plain": "[<matplotlib.lines.Line2D at 0x1fbd4eb9a50>]"
     },
     "execution_count": 21,
     "metadata": {},
     "output_type": "execute_result"
    },
    {
     "data": {
      "text/plain": "<Figure size 432x288 with 1 Axes>",
      "image/png": "[encoded data removed]"
     },
     "metadata": {
      "needs_background": "light"
     },
     "output_type": "display_data"
    }
   ],
   "source": [
    "x, y = get_proportions_after_vertices_removal(ca_graph)\n",
    "plt.plot(x, y)"
   ],
   "metadata": {
    "collapsed": false,
    "pycharm": {
     "name": "#%%\n"
    }
   }
  },
  {
   "cell_type": "markdown",
   "source": [
    "2. Удаление случайных x% вершин наибольшей степени"
   ],
   "metadata": {
    "collapsed": false,
    "pycharm": {
     "name": "#%% md\n"
    }
   }
  },
  {
   "cell_type": "code",
   "execution_count": 23,
   "outputs": [
    {
     "data": {
      "text/plain": "[<matplotlib.lines.Line2D at 0x1fbd5d66c50>]"
     },
     "execution_count": 23,
     "metadata": {},
     "output_type": "execute_result"
    },
    {
     "data": {
      "text/plain": "<Figure size 432x288 with 1 Axes>",
      "image/png": "[encoded data removed]"
     },
     "metadata": {
      "needs_background": "light"
     },
     "output_type": "display_data"
    }
   ],
   "source": [
    "x, y = get_proportions_after_vertices_removal(ca_graph, del_only_max_degree=True)\n",
    "plt.plot(x, y)"
   ],
   "metadata": {
    "collapsed": false,
    "pycharm": {
     "name": "#%%\n"
    }
   }
  },
  {
   "cell_type": "markdown",
   "source": [
    "## VK"
   ],
   "metadata": {
    "collapsed": false,
    "pycharm": {
     "name": "#%% md\n"
    }
   }
  },
  {
   "cell_type": "code",
   "execution_count": 10,
   "outputs": [
    {
     "data": {
      "text/plain": "<Figure size 432x288 with 1 Axes>",
      "image/png": "[encoded data removed]"
     },
     "metadata": {},
     "output_type": "display_data"
    }
   ],
   "source": [
    "file_path = '/content/drive/MyDrive/datasets/vk.csv' if google_drive else 'vk.csv'\n",
    "vk_graph = vk_undirected(file_path)\n",
    "\n",
    "if not google_drive:\n",
    "  G=nx.Graph()\n",
    "  elist=list(map(lambda e: e.to_tuple(), vk_graph.get_all_edges()))\n",
    "  G.add_weighted_edges_from(elist)\n",
    "  nx.draw(G, with_labels=True)"
   ],
   "metadata": {
    "collapsed": false,
    "pycharm": {
     "name": "#%%\n"
    }
   }
  },
  {
   "cell_type": "code",
   "execution_count": 11,
   "outputs": [
    {
     "name": "stdout",
     "output_type": "stream",
     "text": [
      "v: 9, e: 16\n",
      "part: 0.1111111111111111\n",
      "Слабая связность 2\n",
      "Доля вершин: 0.6666666666666666\n",
      "Радиус:  2\n",
      "Диаметр:  4\n",
      "90 процентиль расстояния:  4\n",
      "Число треугольников: 1\n",
      "Средний кластреный коэффициент: 0.25925925925925924\n",
      "Глобальный кластреный коэффициент: 0.375\n",
      "MAX степень вершин: 3\n",
      "MIN степень вершин: 1\n",
      "avg степень вершин: 1.7777777777777777\n"
     ]
    }
   ],
   "source": [
    "vk_results = {}\n",
    "\n",
    "total_v = len(vk_graph.get_all_vertices())\n",
    "total_e = vk_graph.num_edges\n",
    "print(f\"v: {total_v}, e: {total_e}\")\n",
    "print(\"part:\", total_e / (2 * (total_v ** 2 - total_v)))\n",
    "\n",
    "comps = weak_conns(vk_graph)\n",
    "print(\"Слабая связность\", len(comps))\n",
    "max_weak_comp = max(comps, key=len)\n",
    "print(\"Доля вершин:\", len(max_weak_comp) / total_v)\n",
    "\n",
    "radius, diameter, percentile = evaluate_main_characteristics(vk_graph, max_weak_comp)\n",
    "print(\"Радиус: \", radius)\n",
    "print(\"Диаметр: \", diameter)\n",
    "print(\"90 процентиль расстояния: \", percentile)\n",
    "\n",
    "\n",
    "vk_results['total_v'] = total_v\n",
    "vk_results['total_e'] = total_e\n",
    "vk_results['weak_comps'] = comps\n",
    "vk_results['radius'] = radius\n",
    "vk_results['diameter'] = diameter\n",
    "vk_results['percentile'] = percentile\n",
    "\n",
    "\n",
    "triangles = num_of_triangles(vk_graph)\n",
    "print(f\"Число треугольников: {triangles}\")\n",
    "avg, glob = average_and_global_cluster_coefficients(vk_graph)\n",
    "print(f\"Средний кластреный коэффициент: {avg}\")\n",
    "print(f\"Глобальный кластреный коэффициент: {glob}\")\n",
    "\n",
    "vk_results['triangles'] = triangles\n",
    "vk_results['avg_cluster'] = avg\n",
    "vk_results['glob_cluster'] = glob\n",
    "\n",
    "\n",
    "d = evaluate_vertices_degree(vk_graph)\n",
    "print(\"MAX степень вершин:\", max(d.keys()))\n",
    "print(\"MIN степень вершин:\", min(d.keys()))\n",
    "sum = 0\n",
    "for i in d.items():\n",
    "\tsum += i[0]*len(i[1])\n",
    "print(\"avg степень вершин:\", sum/total_v)\n",
    "\n",
    "vk_results['max_degree'] =  max(d.keys())\n",
    "vk_results['min_degree'] =  min(d.keys())\n",
    "vk_results['avg_degree'] =  sum/total_v\n",
    "\n",
    "\n",
    "x, y = [], []\n",
    "sum = 0\n",
    "for item in  sorted(d.items()):\n",
    "\tx.append(item[0])\n",
    "\tsum += len(item[1])/total_v\n",
    "\ty.append(sum)\n",
    "\n",
    "\n",
    "with open('vk_results.pickle', 'wb') as f:\n",
    "\tpickle.dump(vk_results, f)"
   ],
   "metadata": {
    "collapsed": false,
    "pycharm": {
     "name": "#%%\n"
    }
   }
  },
  {
   "cell_type": "code",
   "execution_count": 30,
   "outputs": [
    {
     "data": {
      "text/plain": "[<matplotlib.lines.Line2D at 0x1fbd64e3c70>]"
     },
     "execution_count": 30,
     "metadata": {},
     "output_type": "execute_result"
    },
    {
     "data": {
      "text/plain": "<Figure size 432x288 with 1 Axes>",
      "image/png": "[encoded data removed]"
     },
     "metadata": {
      "needs_background": "light"
     },
     "output_type": "display_data"
    }
   ],
   "source": [
    "plt.yscale('log')\n",
    "plt.xscale('log')\n",
    "plt.step(x, y, where='post')"
   ],
   "metadata": {
    "collapsed": false,
    "pycharm": {
     "name": "#%%\n"
    }
   }
  },
  {
   "cell_type": "code",
   "execution_count": 31,
   "outputs": [
    {
     "data": {
      "text/plain": "[<matplotlib.lines.Line2D at 0x1fbd64eea10>]"
     },
     "execution_count": 31,
     "metadata": {},
     "output_type": "execute_result"
    },
    {
     "data": {
      "text/plain": "<Figure size 432x288 with 1 Axes>",
      "image/png": "[encoded data removed]"
     },
     "metadata": {
      "needs_background": "light"
     },
     "output_type": "display_data"
    }
   ],
   "source": [],
   "metadata": {
    "collapsed": false,
    "pycharm": {
     "name": "#%%\n"
    }
   }
  },
  {
   "cell_type": "markdown",
   "source": [
    "## B"
   ],
   "metadata": {
    "collapsed": false,
    "pycharm": {
     "name": "#%% md\n"
    }
   }
  },
  {
   "cell_type": "code",
   "execution_count": 33,
   "outputs": [
    {
     "data": {
      "text/plain": "[<matplotlib.lines.Line2D at 0x1fbd614db40>]"
     },
     "execution_count": 33,
     "metadata": {},
     "output_type": "execute_result"
    },
    {
     "data": {
      "text/plain": "<Figure size 432x288 with 1 Axes>",
      "image/png": "[encoded data removed]"
     },
     "metadata": {
      "needs_background": "light"
     },
     "output_type": "display_data"
    }
   ],
   "source": [
    "x, y = get_proportions_after_vertices_removal(vk_graph)\n",
    "plt.plot(x, y)"
   ],
   "metadata": {
    "collapsed": false,
    "pycharm": {
     "name": "#%%\n"
    }
   }
  },
  {
   "cell_type": "code",
   "execution_count": 34,
   "outputs": [
    {
     "data": {
      "text/plain": "[<matplotlib.lines.Line2D at 0x1fbd6204490>]"
     },
     "execution_count": 34,
     "metadata": {},
     "output_type": "execute_result"
    },
    {
     "data": {
      "text/plain": "<Figure size 432x288 with 1 Axes>",
      "image/png": "[encoded data removed]"
     },
     "metadata": {
      "needs_background": "light"
     },
     "output_type": "display_data"
    }
   ],
   "source": [
    "x, y = get_proportions_after_vertices_removal(vk_graph, del_only_max_degree=True)\n",
    "plt.plot(x, y)"
   ],
   "metadata": {
    "collapsed": false,
    "pycharm": {
     "name": "#%%\n"
    }
   }
  },
  {
   "cell_type": "code",
   "execution_count": null,
   "outputs": [],
   "source": [],
   "metadata": {
    "collapsed": false,
    "pycharm": {
     "name": "#%%\n"
    }
   }
  }
 ],
 "metadata": {
  "kernelspec": {
   "display_name": "Python 3 (ipykernel)",
   "language": "python",
   "name": "python3"
  },
  "language_info": {
   "codemirror_mode": {
    "name": "ipython",
    "version": 3
   },
   "file_extension": ".py",
   "mimetype": "text/x-python",
   "name": "python",
   "nbconvert_exporter": "python",
   "pygments_lexer": "ipython3",
   "version": "3.10.4"
  },
  "colab": {
   "name": "Untitled.ipynb",
   "provenance": [],
   "include_colab_link": true
  }
 },
 "nbformat": 4,
 "nbformat_minor": 5
}