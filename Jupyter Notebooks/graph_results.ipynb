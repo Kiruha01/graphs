{
 "cells": [
  {
   "cell_type": "markdown",
   "metadata": {
    "id": "view-in-github",
    "colab_type": "text",
    "pycharm": {
     "name": "#%% md\n"
    }
   },
   "source": [
    "<a href=\"https://colab.research.google.com/github/Kiruha01/graphs/blob/master/Untitled.ipynb\" target=\"_parent\"><img src=\"https://colab.research.google.com/assets/colab-badge.svg\" alt=\"Open In Colab\"/></a>"
   ]
  },
  {
   "cell_type": "code",
   "execution_count": 2,
   "outputs": [],
   "source": [
    "import networkx as nx\n",
    "from import_dataset import google_directed, ca_undirected, vk_undirected\n",
    "from algoritms import *\n",
    "from matplotlib import pyplot as plt\n",
    "import pickle\n",
    "google_drive = False"
   ],
   "metadata": {
    "collapsed": false,
    "pycharm": {
     "name": "#%%\n"
    }
   }
  },
  {
   "cell_type": "markdown",
   "source": [
    "## Google Colab\n",
    "Run only on Google Colab"
   ],
   "metadata": {
    "collapsed": false,
    "pycharm": {
     "name": "#%% md\n"
    }
   }
  },
  {
   "cell_type": "code",
   "execution_count": null,
   "outputs": [],
   "source": [
    "from google.colab import drive\n",
    "drive.mount('/content/drive')\n",
    "\n",
    "# Run when repo will be public\n",
    "!curl https://raw.githubusercontent.com/Kiruha01/graphs/master/utils.py --output utils.py\n",
    "!curl https://raw.githubusercontent.com/Kiruha01/graphs/master/import_dataset.py --output import_dataset.py\n",
    "!curl https://raw.githubusercontent.com/Kiruha01/graphs/master/models.py --output models.py\n",
    "\n",
    "google_drive = True"
   ],
   "metadata": {
    "collapsed": false,
    "pycharm": {
     "name": "#%%\n"
    }
   }
  },
  {
   "cell_type": "markdown",
   "source": [
    "## Google"
   ],
   "metadata": {
    "collapsed": false,
    "pycharm": {
     "name": "#%% md\n"
    }
   }
  },
  {
   "cell_type": "code",
   "execution_count": 6,
   "outputs": [
    {
     "ename": "KeyboardInterrupt",
     "evalue": "",
     "output_type": "error",
     "traceback": [
      "\u001B[1;31m---------------------------------------------------------------------------\u001B[0m",
      "\u001B[1;31mKeyboardInterrupt\u001B[0m                         Traceback (most recent call last)",
      "Input \u001B[1;32mIn [6]\u001B[0m, in \u001B[0;36m<cell line: 4>\u001B[1;34m()\u001B[0m\n\u001B[0;32m      6\u001B[0m elist\u001B[38;5;241m=\u001B[39m\u001B[38;5;28mlist\u001B[39m(\u001B[38;5;28mmap\u001B[39m(\u001B[38;5;28;01mlambda\u001B[39;00m e: e\u001B[38;5;241m.\u001B[39mto_tuple(), google_graph\u001B[38;5;241m.\u001B[39mget_all_edges()))\n\u001B[0;32m      7\u001B[0m G\u001B[38;5;241m.\u001B[39madd_edges_from(elist)\n\u001B[1;32m----> 8\u001B[0m \u001B[43mnx\u001B[49m\u001B[38;5;241;43m.\u001B[39;49m\u001B[43mdraw\u001B[49m\u001B[43m(\u001B[49m\u001B[43mG\u001B[49m\u001B[43m,\u001B[49m\u001B[43m \u001B[49m\u001B[43mwith_labels\u001B[49m\u001B[38;5;241;43m=\u001B[39;49m\u001B[38;5;28;43;01mTrue\u001B[39;49;00m\u001B[43m)\u001B[49m\n",
      "File \u001B[1;32m~\\PycharmProjects\\pythonProject\\venv\\lib\\site-packages\\networkx\\drawing\\nx_pylab.py:120\u001B[0m, in \u001B[0;36mdraw\u001B[1;34m(G, pos, ax, **kwds)\u001B[0m\n\u001B[0;32m    117\u001B[0m \u001B[38;5;28;01mif\u001B[39;00m \u001B[38;5;124m\"\u001B[39m\u001B[38;5;124mwith_labels\u001B[39m\u001B[38;5;124m\"\u001B[39m \u001B[38;5;129;01mnot\u001B[39;00m \u001B[38;5;129;01min\u001B[39;00m kwds:\n\u001B[0;32m    118\u001B[0m     kwds[\u001B[38;5;124m\"\u001B[39m\u001B[38;5;124mwith_labels\u001B[39m\u001B[38;5;124m\"\u001B[39m] \u001B[38;5;241m=\u001B[39m \u001B[38;5;124m\"\u001B[39m\u001B[38;5;124mlabels\u001B[39m\u001B[38;5;124m\"\u001B[39m \u001B[38;5;129;01min\u001B[39;00m kwds\n\u001B[1;32m--> 120\u001B[0m draw_networkx(G, pos\u001B[38;5;241m=\u001B[39mpos, ax\u001B[38;5;241m=\u001B[39max, \u001B[38;5;241m*\u001B[39m\u001B[38;5;241m*\u001B[39mkwds)\n\u001B[0;32m    121\u001B[0m ax\u001B[38;5;241m.\u001B[39mset_axis_off()\n\u001B[0;32m    122\u001B[0m plt\u001B[38;5;241m.\u001B[39mdraw_if_interactive()\n",
      "File \u001B[1;32m~\\PycharmProjects\\pythonProject\\venv\\lib\\site-packages\\networkx\\drawing\\nx_pylab.py:331\u001B[0m, in \u001B[0;36mdraw_networkx\u001B[1;34m(G, pos, arrows, with_labels, **kwds)\u001B[0m\n\u001B[0;32m    328\u001B[0m label_kwds \u001B[38;5;241m=\u001B[39m {k: v \u001B[38;5;28;01mfor\u001B[39;00m k, v \u001B[38;5;129;01min\u001B[39;00m kwds\u001B[38;5;241m.\u001B[39mitems() \u001B[38;5;28;01mif\u001B[39;00m k \u001B[38;5;129;01min\u001B[39;00m valid_label_kwds}\n\u001B[0;32m    330\u001B[0m \u001B[38;5;28;01mif\u001B[39;00m pos \u001B[38;5;129;01mis\u001B[39;00m \u001B[38;5;28;01mNone\u001B[39;00m:\n\u001B[1;32m--> 331\u001B[0m     pos \u001B[38;5;241m=\u001B[39m \u001B[43mnx\u001B[49m\u001B[38;5;241;43m.\u001B[39;49m\u001B[43mdrawing\u001B[49m\u001B[38;5;241;43m.\u001B[39;49m\u001B[43mspring_layout\u001B[49m\u001B[43m(\u001B[49m\u001B[43mG\u001B[49m\u001B[43m)\u001B[49m  \u001B[38;5;66;03m# default to spring layout\u001B[39;00m\n\u001B[0;32m    333\u001B[0m draw_networkx_nodes(G, pos, \u001B[38;5;241m*\u001B[39m\u001B[38;5;241m*\u001B[39mnode_kwds)\n\u001B[0;32m    334\u001B[0m draw_networkx_edges(G, pos, arrows\u001B[38;5;241m=\u001B[39marrows, \u001B[38;5;241m*\u001B[39m\u001B[38;5;241m*\u001B[39medge_kwds)\n",
      "File \u001B[1;32m~\\PycharmProjects\\pythonProject\\venv\\lib\\site-packages\\networkx\\utils\\decorators.py:816\u001B[0m, in \u001B[0;36margmap.__call__.<locals>.func\u001B[1;34m(_argmap__wrapper, *args, **kwargs)\u001B[0m\n\u001B[0;32m    815\u001B[0m \u001B[38;5;28;01mdef\u001B[39;00m \u001B[38;5;21mfunc\u001B[39m(\u001B[38;5;241m*\u001B[39margs, __wrapper\u001B[38;5;241m=\u001B[39m\u001B[38;5;28;01mNone\u001B[39;00m, \u001B[38;5;241m*\u001B[39m\u001B[38;5;241m*\u001B[39mkwargs):\n\u001B[1;32m--> 816\u001B[0m     \u001B[38;5;28;01mreturn\u001B[39;00m argmap\u001B[38;5;241m.\u001B[39m_lazy_compile(__wrapper)(\u001B[38;5;241m*\u001B[39margs, \u001B[38;5;241m*\u001B[39m\u001B[38;5;241m*\u001B[39mkwargs)\n",
      "File \u001B[1;32m<class 'networkx.utils.decorators.argmap'> compilation 4:4\u001B[0m, in \u001B[0;36margmap_spring_layout_1\u001B[1;34m(G, k, pos, fixed, iterations, threshold, weight, scale, center, dim, seed)\u001B[0m\n\u001B[0;32m      2\u001B[0m \u001B[38;5;28;01mfrom\u001B[39;00m \u001B[38;5;21;01mos\u001B[39;00m\u001B[38;5;21;01m.\u001B[39;00m\u001B[38;5;21;01mpath\u001B[39;00m \u001B[38;5;28;01mimport\u001B[39;00m splitext\n\u001B[0;32m      3\u001B[0m \u001B[38;5;28;01mfrom\u001B[39;00m \u001B[38;5;21;01mcontextlib\u001B[39;00m \u001B[38;5;28;01mimport\u001B[39;00m contextmanager\n\u001B[1;32m----> 4\u001B[0m \u001B[38;5;28;01mfrom\u001B[39;00m \u001B[38;5;21;01mpathlib\u001B[39;00m \u001B[38;5;28;01mimport\u001B[39;00m Path\n\u001B[0;32m      6\u001B[0m \u001B[38;5;28;01mimport\u001B[39;00m \u001B[38;5;21;01mnetworkx\u001B[39;00m \u001B[38;5;28;01mas\u001B[39;00m \u001B[38;5;21;01mnx\u001B[39;00m\n\u001B[0;32m      7\u001B[0m \u001B[38;5;28;01mfrom\u001B[39;00m \u001B[38;5;21;01mnetworkx\u001B[39;00m\u001B[38;5;21;01m.\u001B[39;00m\u001B[38;5;21;01mutils\u001B[39;00m \u001B[38;5;28;01mimport\u001B[39;00m create_random_state, create_py_random_state\n",
      "File \u001B[1;32m~\\PycharmProjects\\pythonProject\\venv\\lib\\site-packages\\networkx\\drawing\\layout.py:481\u001B[0m, in \u001B[0;36mspring_layout\u001B[1;34m(G, k, pos, fixed, iterations, threshold, weight, scale, center, dim, seed)\u001B[0m\n\u001B[0;32m    479\u001B[0m         nnodes, _ \u001B[38;5;241m=\u001B[39m A\u001B[38;5;241m.\u001B[39mshape\n\u001B[0;32m    480\u001B[0m         k \u001B[38;5;241m=\u001B[39m dom_size \u001B[38;5;241m/\u001B[39m np\u001B[38;5;241m.\u001B[39msqrt(nnodes)\n\u001B[1;32m--> 481\u001B[0m     pos \u001B[38;5;241m=\u001B[39m \u001B[43m_sparse_fruchterman_reingold\u001B[49m\u001B[43m(\u001B[49m\n\u001B[0;32m    482\u001B[0m \u001B[43m        \u001B[49m\u001B[43mA\u001B[49m\u001B[43m,\u001B[49m\u001B[43m \u001B[49m\u001B[43mk\u001B[49m\u001B[43m,\u001B[49m\u001B[43m \u001B[49m\u001B[43mpos_arr\u001B[49m\u001B[43m,\u001B[49m\u001B[43m \u001B[49m\u001B[43mfixed\u001B[49m\u001B[43m,\u001B[49m\u001B[43m \u001B[49m\u001B[43miterations\u001B[49m\u001B[43m,\u001B[49m\u001B[43m \u001B[49m\u001B[43mthreshold\u001B[49m\u001B[43m,\u001B[49m\u001B[43m \u001B[49m\u001B[43mdim\u001B[49m\u001B[43m,\u001B[49m\u001B[43m \u001B[49m\u001B[43mseed\u001B[49m\n\u001B[0;32m    483\u001B[0m \u001B[43m    \u001B[49m\u001B[43m)\u001B[49m\n\u001B[0;32m    484\u001B[0m \u001B[38;5;28;01mexcept\u001B[39;00m \u001B[38;5;167;01mValueError\u001B[39;00m:\n\u001B[0;32m    485\u001B[0m     A \u001B[38;5;241m=\u001B[39m nx\u001B[38;5;241m.\u001B[39mto_numpy_array(G, weight\u001B[38;5;241m=\u001B[39mweight)\n",
      "File \u001B[1;32m~\\PycharmProjects\\pythonProject\\venv\\lib\\site-packages\\networkx\\utils\\decorators.py:816\u001B[0m, in \u001B[0;36margmap.__call__.<locals>.func\u001B[1;34m(_argmap__wrapper, *args, **kwargs)\u001B[0m\n\u001B[0;32m    815\u001B[0m \u001B[38;5;28;01mdef\u001B[39;00m \u001B[38;5;21mfunc\u001B[39m(\u001B[38;5;241m*\u001B[39margs, __wrapper\u001B[38;5;241m=\u001B[39m\u001B[38;5;28;01mNone\u001B[39;00m, \u001B[38;5;241m*\u001B[39m\u001B[38;5;241m*\u001B[39mkwargs):\n\u001B[1;32m--> 816\u001B[0m     \u001B[38;5;28;01mreturn\u001B[39;00m argmap\u001B[38;5;241m.\u001B[39m_lazy_compile(__wrapper)(\u001B[38;5;241m*\u001B[39margs, \u001B[38;5;241m*\u001B[39m\u001B[38;5;241m*\u001B[39mkwargs)\n",
      "File \u001B[1;32m<class 'networkx.utils.decorators.argmap'> compilation 8:4\u001B[0m, in \u001B[0;36margmap__sparse_fruchterman_reingold_5\u001B[1;34m(A, k, pos, fixed, iterations, threshold, dim, seed)\u001B[0m\n\u001B[0;32m      2\u001B[0m \u001B[38;5;28;01mfrom\u001B[39;00m \u001B[38;5;21;01mos\u001B[39;00m\u001B[38;5;21;01m.\u001B[39;00m\u001B[38;5;21;01mpath\u001B[39;00m \u001B[38;5;28;01mimport\u001B[39;00m splitext\n\u001B[0;32m      3\u001B[0m \u001B[38;5;28;01mfrom\u001B[39;00m \u001B[38;5;21;01mcontextlib\u001B[39;00m \u001B[38;5;28;01mimport\u001B[39;00m contextmanager\n\u001B[1;32m----> 4\u001B[0m \u001B[38;5;28;01mfrom\u001B[39;00m \u001B[38;5;21;01mpathlib\u001B[39;00m \u001B[38;5;28;01mimport\u001B[39;00m Path\n\u001B[0;32m      6\u001B[0m \u001B[38;5;28;01mimport\u001B[39;00m \u001B[38;5;21;01mnetworkx\u001B[39;00m \u001B[38;5;28;01mas\u001B[39;00m \u001B[38;5;21;01mnx\u001B[39;00m\n\u001B[0;32m      7\u001B[0m \u001B[38;5;28;01mfrom\u001B[39;00m \u001B[38;5;21;01mnetworkx\u001B[39;00m\u001B[38;5;21;01m.\u001B[39;00m\u001B[38;5;21;01mutils\u001B[39;00m \u001B[38;5;28;01mimport\u001B[39;00m create_random_state, create_py_random_state\n",
      "File \u001B[1;32m~\\PycharmProjects\\pythonProject\\venv\\lib\\site-packages\\networkx\\drawing\\layout.py:623\u001B[0m, in \u001B[0;36m_sparse_fruchterman_reingold\u001B[1;34m(A, k, pos, fixed, iterations, threshold, dim, seed)\u001B[0m\n\u001B[0;32m    621\u001B[0m     Ai \u001B[38;5;241m=\u001B[39m A\u001B[38;5;241m.\u001B[39mgetrowview(i)\u001B[38;5;241m.\u001B[39mtoarray()  \u001B[38;5;66;03m# TODO: revisit w/ sparse 1D container\u001B[39;00m\n\u001B[0;32m    622\u001B[0m     \u001B[38;5;66;03m# displacement \"force\"\u001B[39;00m\n\u001B[1;32m--> 623\u001B[0m     displacement[:, i] \u001B[38;5;241m+\u001B[39m\u001B[38;5;241m=\u001B[39m \u001B[43m(\u001B[49m\n\u001B[0;32m    624\u001B[0m \u001B[43m        \u001B[49m\u001B[43mdelta\u001B[49m\u001B[43m \u001B[49m\u001B[38;5;241;43m*\u001B[39;49m\u001B[43m \u001B[49m\u001B[43m(\u001B[49m\u001B[43mk\u001B[49m\u001B[43m \u001B[49m\u001B[38;5;241;43m*\u001B[39;49m\u001B[43m \u001B[49m\u001B[43mk\u001B[49m\u001B[43m \u001B[49m\u001B[38;5;241;43m/\u001B[39;49m\u001B[43m \u001B[49m\u001B[43mdistance\u001B[49m\u001B[38;5;241;43m*\u001B[39;49m\u001B[38;5;241;43m*\u001B[39;49m\u001B[38;5;241;43m2\u001B[39;49m\u001B[43m \u001B[49m\u001B[38;5;241;43m-\u001B[39;49m\u001B[43m \u001B[49m\u001B[43mAi\u001B[49m\u001B[43m \u001B[49m\u001B[38;5;241;43m*\u001B[39;49m\u001B[43m \u001B[49m\u001B[43mdistance\u001B[49m\u001B[43m \u001B[49m\u001B[38;5;241;43m/\u001B[39;49m\u001B[43m \u001B[49m\u001B[43mk\u001B[49m\u001B[43m)\u001B[49m\n\u001B[0;32m    625\u001B[0m \u001B[43m    \u001B[49m\u001B[43m)\u001B[49m\u001B[38;5;241;43m.\u001B[39;49m\u001B[43msum\u001B[49m\u001B[43m(\u001B[49m\u001B[43maxis\u001B[49m\u001B[38;5;241;43m=\u001B[39;49m\u001B[38;5;241;43m1\u001B[39;49m\u001B[43m)\u001B[49m\n\u001B[0;32m    626\u001B[0m \u001B[38;5;66;03m# update positions\u001B[39;00m\n\u001B[0;32m    627\u001B[0m length \u001B[38;5;241m=\u001B[39m np\u001B[38;5;241m.\u001B[39msqrt((displacement\u001B[38;5;241m*\u001B[39m\u001B[38;5;241m*\u001B[39m\u001B[38;5;241m2\u001B[39m)\u001B[38;5;241m.\u001B[39msum(axis\u001B[38;5;241m=\u001B[39m\u001B[38;5;241m0\u001B[39m))\n",
      "File \u001B[1;32m~\\PycharmProjects\\pythonProject\\venv\\lib\\site-packages\\numpy\\core\\_methods.py:48\u001B[0m, in \u001B[0;36m_sum\u001B[1;34m(a, axis, dtype, out, keepdims, initial, where)\u001B[0m\n\u001B[0;32m     46\u001B[0m \u001B[38;5;28;01mdef\u001B[39;00m \u001B[38;5;21m_sum\u001B[39m(a, axis\u001B[38;5;241m=\u001B[39m\u001B[38;5;28;01mNone\u001B[39;00m, dtype\u001B[38;5;241m=\u001B[39m\u001B[38;5;28;01mNone\u001B[39;00m, out\u001B[38;5;241m=\u001B[39m\u001B[38;5;28;01mNone\u001B[39;00m, keepdims\u001B[38;5;241m=\u001B[39m\u001B[38;5;28;01mFalse\u001B[39;00m,\n\u001B[0;32m     47\u001B[0m          initial\u001B[38;5;241m=\u001B[39m_NoValue, where\u001B[38;5;241m=\u001B[39m\u001B[38;5;28;01mTrue\u001B[39;00m):\n\u001B[1;32m---> 48\u001B[0m     \u001B[38;5;28;01mreturn\u001B[39;00m \u001B[43mumr_sum\u001B[49m\u001B[43m(\u001B[49m\u001B[43ma\u001B[49m\u001B[43m,\u001B[49m\u001B[43m \u001B[49m\u001B[43maxis\u001B[49m\u001B[43m,\u001B[49m\u001B[43m \u001B[49m\u001B[43mdtype\u001B[49m\u001B[43m,\u001B[49m\u001B[43m \u001B[49m\u001B[43mout\u001B[49m\u001B[43m,\u001B[49m\u001B[43m \u001B[49m\u001B[43mkeepdims\u001B[49m\u001B[43m,\u001B[49m\u001B[43m \u001B[49m\u001B[43minitial\u001B[49m\u001B[43m,\u001B[49m\u001B[43m \u001B[49m\u001B[43mwhere\u001B[49m\u001B[43m)\u001B[49m\n",
      "\u001B[1;31mKeyboardInterrupt\u001B[0m: "
     ]
    },
    {
     "data": {
      "text/plain": "<Figure size 432x288 with 1 Axes>",
      "image/png": "[encoded data removed]"
     },
     "metadata": {},
     "output_type": "display_data"
    }
   ],
   "source": [
    "file_path = '/content/drive/MyDrive/datasets/web-Google.txt' if google_drive else '../datasets-2/CA-GrQc.txt'\n",
    "google_graph = google_directed(file_path)\n",
    "\n",
    "if not google_drive:\n",
    "  G=nx.DiGraph()\n",
    "  elist=list(map(lambda e: e.to_tuple(), google_graph.get_all_edges()))\n",
    "  G.add_edges_from(elist)\n",
    "  nx.draw(G, with_labels=True)"
   ],
   "metadata": {
    "collapsed": false,
    "pycharm": {
     "name": "#%%\n"
    }
   }
  },
  {
   "cell_type": "code",
   "execution_count": null,
   "outputs": [],
   "source": [
    "with open('google_results.pickle', 'rb') as f:\n",
    "\tgoogle_results = pickle.load(f)"
   ],
   "metadata": {
    "collapsed": false,
    "pycharm": {
     "name": "#%%\n"
    }
   }
  },
  {
   "cell_type": "code",
   "execution_count": null,
   "outputs": [],
   "source": [
    "google_results = {}\n",
    "\n",
    "total_v = len(google_graph.get_all_vertices())\n",
    "total_e = google_graph.num_edges\n",
    "print(f\"v: {total_v}, e: {total_e}\")\n",
    "print(\"part:\", total_e / (2 * (total_v ** 2 - total_v)))\n",
    "\n",
    "comps = weak_conns(google_graph)\n",
    "print(\"Слабая связность\", len(comps))\n",
    "max_weak_comp = max(comps, key=len)\n",
    "print(\"Доля вершин:\", len(max_weak_comp) / total_v)\n",
    "\n",
    "strong_comps = strong_conns(google_graph)\n",
    "print(\"Сильная связность: \", len(strong_comps))\n",
    "max_strong_comp = max(strong_comps, key=len)\n",
    "print(\"Доля вершин:\", len(max_strong_comp) / total_v)\n",
    "\n",
    "radius, diameter, percentile = evaluate_main_characteristics(google_graph, max_weak_comp)\n",
    "print(\"Радиус: \", radius)\n",
    "print(\"Диаметр: \", diameter)\n",
    "print(\"90 процентиль расстояния: \", percentile)\n",
    "\n",
    "\n",
    "google_results['total_v'] = total_v\n",
    "google_results['total_e'] = total_e\n",
    "google_results['weak_comps'] = comps\n",
    "google_results['strong_comps'] = strong_comps\n",
    "google_results['radius'] = radius\n",
    "google_results['diameter'] = diameter\n",
    "google_results['percentile'] = percentile\n",
    "\n",
    "\n",
    "triangles = num_of_triangles(google_graph)\n",
    "print(f\"Число треугольников: {triangles}\")\n",
    "avg, glob = average_and_global_cluster_coefficients(google_graph)\n",
    "print(f\"Средний кластреный коэффициент: {avg}\")\n",
    "print(f\"Глобальный кластреный коэффициент: {glob}\")\n",
    "\n",
    "google_results['triangles'] = triangles\n",
    "google_results['avg_cluster'] = avg\n",
    "google_results['glob_cluster'] = glob\n",
    "\n",
    "\n",
    "d = evaluate_vertices_degree(google_graph)\n",
    "print(\"MAX степень вершин:\", max(d.keys()))\n",
    "print(\"MIN степень вершин:\", min(d.keys()))\n",
    "sum = 0\n",
    "for i in d.items():\n",
    "\tsum += i[0]*len(i[1])\n",
    "print(\"avg степень вершин:\", sum/total_v)\n",
    "\n",
    "google_results['max_degree'] =  max(d.keys())\n",
    "google_results['min_degree'] =  min(d.keys())\n",
    "google_results['avg_degree'] =  sum/total_v\n",
    "\n",
    "\n",
    "x, y = [], []\n",
    "sum = 0\n",
    "for item in  sorted(d.items()):\n",
    "\tx.append(item[0])\n",
    "\tsum += len(item[1])/total_v\n",
    "\ty.append(sum)\n",
    "\n",
    "\n",
    "with open('google_results.pickle', 'wb') as f:\n",
    "\tpickle.dump(google_results, f)"
   ],
   "metadata": {
    "collapsed": false,
    "pycharm": {
     "name": "#%%\n"
    }
   }
  },
  {
   "cell_type": "code",
   "execution_count": null,
   "outputs": [],
   "source": [
    "plt.step(x, y, where='post')"
   ],
   "metadata": {
    "collapsed": false,
    "pycharm": {
     "name": "#%%\n"
    }
   }
  },
  {
   "cell_type": "code",
   "execution_count": null,
   "outputs": [],
   "source": [
    "plt.yscale('log')\n",
    "plt.xscale('log')\n",
    "plt.step(x, y, where='post')"
   ],
   "metadata": {
    "collapsed": false,
    "pycharm": {
     "name": "#%%\n"
    }
   }
  },
  {
   "cell_type": "markdown",
   "source": [
    "### B.\n",
    "1. Удаление случайных x% вершин"
   ],
   "metadata": {
    "collapsed": false,
    "pycharm": {
     "name": "#%% md\n"
    }
   }
  },
  {
   "cell_type": "code",
   "execution_count": null,
   "outputs": [],
   "source": [
    "x, y = get_proportions_after_vertices_removal(google_graph)\n",
    "plt.plot(x, y)"
   ],
   "metadata": {
    "collapsed": false,
    "pycharm": {
     "name": "#%%\n"
    }
   }
  },
  {
   "cell_type": "markdown",
   "source": [
    "2. Удаление случайных x% вершин наибольшей степени"
   ],
   "metadata": {
    "collapsed": false,
    "pycharm": {
     "name": "#%% md\n"
    }
   }
  },
  {
   "cell_type": "code",
   "execution_count": null,
   "outputs": [],
   "source": [
    "x, y = get_proportions_after_vertices_removal(google_graph, del_only_max_degree=True)\n",
    "plt.plot(x, y)"
   ],
   "metadata": {
    "collapsed": false,
    "pycharm": {
     "name": "#%%\n"
    }
   }
  },
  {
   "cell_type": "markdown",
   "source": [
    "### Мета-граф"
   ],
   "metadata": {
    "collapsed": false,
    "pycharm": {
     "name": "#%% md\n"
    }
   }
  },
  {
   "cell_type": "code",
   "execution_count": null,
   "outputs": [],
   "source": [
    "strong_comps = google_results['strong_comps']\n",
    "component_links = []\n",
    "comp_map = {}\n",
    "for i, v in enumerate(strong_comps):\n",
    "\tfor n in v:\n",
    "\t\tcomp_map[n] = i\n",
    "\n",
    "for c in strong_comps:\n",
    "\tcomponent_links.append(set())\n",
    "\tfor ver in c:\n",
    "\t\tcomponent_links[-1].update({edge.end for edge in google_graph.outgoing_adj_list[ver]})\n",
    "\tcomponent_links[-1] = component_links[-1].difference(set(c))\n",
    "\n",
    "G=nx.DiGraph()\n",
    "\n",
    "elist=[]\n",
    "for idx, comp in enumerate(strong_comps):\n",
    "\tfirst_node = str(idx)\n",
    "\tend_nodes = set()\n",
    "\tfor z in component_links[idx]:\n",
    "\t\tend_nodes.add(str(comp_map[z]))\n",
    "\n",
    "\tif not end_nodes:\n",
    "\t\tG.add_node(first_node)\n",
    "\n",
    "\tfor z in end_nodes:\n",
    "\t\telist.append((first_node, z))\n",
    "\n",
    "with open('elist.pickle', 'wb') as f:\n",
    "  pickle.dump(elist, f)\n",
    "print(strong_comps)\n",
    "plt.figure(1,figsize = (65, 65))\n",
    "G.add_edges_from(elist)\n",
    "nx.draw(G, with_labels=True)"
   ],
   "metadata": {
    "collapsed": false,
    "pycharm": {
     "name": "#%%\n"
    }
   }
  },
  {
   "cell_type": "markdown",
   "source": [
    "## CA"
   ],
   "metadata": {
    "collapsed": false,
    "pycharm": {
     "name": "#%% md\n"
    }
   }
  },
  {
   "cell_type": "code",
   "execution_count": null,
   "outputs": [],
   "source": [
    "file_path = '/content/drive/MyDrive/datasets/CA-AstroPh.txt' if google_drive else 'test_datasets/CA-AstroPh.txt'\n",
    "ca_graph = ca_undirected(file_path)\n",
    "\n",
    "if not google_drive:\n",
    "  G=nx.Graph()\n",
    "  elist=list(map(lambda e: e.to_tuple(), ca_graph.get_all_edges()))\n",
    "  G.add_edges_from(elist)\n",
    "  nx.draw(G, with_labels=True)"
   ],
   "metadata": {
    "collapsed": false,
    "pycharm": {
     "name": "#%%\n"
    }
   }
  },
  {
   "cell_type": "code",
   "execution_count": null,
   "outputs": [],
   "source": [
    "ca_results = {}\n",
    "\n",
    "total_v = len(ca_graph.get_all_vertices())\n",
    "total_e = ca_graph.num_edges\n",
    "print(f\"v: {total_v}, e: {total_e}\")\n",
    "print(\"part:\", total_e / (2 * (total_v ** 2 - total_v)))\n",
    "\n",
    "comps = weak_conns(ca_graph)\n",
    "print(\"Слабая связность\", len(comps))\n",
    "max_weak_comp = max(comps, key=len)\n",
    "print(\"Доля вершин:\", len(max_weak_comp) / total_v)\n",
    "\n",
    "radius, diameter, percentile = evaluate_main_characteristics(ca_graph, max_weak_comp)\n",
    "print(\"Радиус: \", radius)\n",
    "print(\"Диаметр: \", diameter)\n",
    "print(\"90 процентиль расстояния: \", percentile)\n",
    "\n",
    "\n",
    "ca_results['total_v'] = total_v\n",
    "ca_results['total_e'] = total_e\n",
    "ca_results['weak_comps'] = comps\n",
    "ca_results['radius'] = radius\n",
    "ca_results['diameter'] = diameter\n",
    "ca_results['percentile'] = percentile\n",
    "\n",
    "\n",
    "triangles = num_of_triangles(ca_graph)\n",
    "print(f\"Число треугольников: {triangles}\")\n",
    "avg, glob = average_and_global_cluster_coefficients(ca_graph)\n",
    "print(f\"Средний кластреный коэффициент: {avg}\")\n",
    "print(f\"Глобальный кластреный коэффициент: {glob}\")\n",
    "\n",
    "ca_results['triangles'] = triangles\n",
    "ca_results['avg_cluster'] = avg\n",
    "ca_results['glob_cluster'] = glob\n",
    "\n",
    "\n",
    "d = evaluate_vertices_degree(ca_graph)\n",
    "print(\"MAX степень вершин:\", max(d.keys()))\n",
    "print(\"MIN степень вершин:\", min(d.keys()))\n",
    "sum = 0\n",
    "for i in d.items():\n",
    "\tsum += i[0]*len(i[1])\n",
    "print(\"avg степень вершин:\", sum/total_v)\n",
    "\n",
    "ca_results['max_degree'] =  max(d.keys())\n",
    "ca_results['min_degree'] =  min(d.keys())\n",
    "ca_results['avg_degree'] =  sum/total_v\n",
    "\n",
    "\n",
    "x, y = [], []\n",
    "sum = 0\n",
    "for item in  sorted(d.items()):\n",
    "\tx.append(item[0])\n",
    "\tsum += len(item[1])/total_v\n",
    "\ty.append(sum)\n",
    "\n",
    "\n",
    "with open('ca_results.pickle', 'wb') as f:\n",
    "\tpickle.dump(ca_results, f)"
   ],
   "metadata": {
    "collapsed": false,
    "pycharm": {
     "name": "#%%\n"
    }
   }
  },
  {
   "cell_type": "code",
   "execution_count": null,
   "outputs": [],
   "source": [
    "plt.step(x, y, where='post')"
   ],
   "metadata": {
    "collapsed": false,
    "pycharm": {
     "name": "#%%\n"
    }
   }
  },
  {
   "cell_type": "code",
   "execution_count": null,
   "outputs": [],
   "source": [
    "plt.yscale('log')\n",
    "plt.xscale('log')\n",
    "plt.step(x, y, where='post')"
   ],
   "metadata": {
    "collapsed": false,
    "pycharm": {
     "name": "#%%\n"
    }
   }
  },
  {
   "cell_type": "markdown",
   "source": [
    "### B.\n",
    "1. Удаление случайных x% вершин"
   ],
   "metadata": {
    "collapsed": false,
    "pycharm": {
     "name": "#%% md\n"
    }
   }
  },
  {
   "cell_type": "code",
   "execution_count": null,
   "outputs": [],
   "source": [],
   "metadata": {
    "collapsed": false,
    "pycharm": {
     "name": "#%%\n"
    }
   }
  },
  {
   "cell_type": "code",
   "execution_count": null,
   "outputs": [],
   "source": [
    "x, y = get_proportions_after_vertices_removal(ca_graph)\n",
    "plt.plot(x, y)"
   ],
   "metadata": {
    "collapsed": false,
    "pycharm": {
     "name": "#%%\n"
    }
   }
  },
  {
   "cell_type": "markdown",
   "source": [
    "2. Удаление случайных x% вершин наибольшей степени"
   ],
   "metadata": {
    "collapsed": false,
    "pycharm": {
     "name": "#%% md\n"
    }
   }
  },
  {
   "cell_type": "code",
   "execution_count": null,
   "outputs": [],
   "source": [
    "x, y = get_proportions_after_vertices_removal(ca_graph, del_only_max_degree=True)\n",
    "plt.plot(x, y)"
   ],
   "metadata": {
    "collapsed": false,
    "pycharm": {
     "name": "#%%\n"
    }
   }
  },
  {
   "cell_type": "markdown",
   "source": [
    "## VK"
   ],
   "metadata": {
    "collapsed": false,
    "pycharm": {
     "name": "#%% md\n"
    }
   }
  },
  {
   "cell_type": "code",
   "execution_count": null,
   "outputs": [],
   "source": [
    "file_path = '/content/drive/MyDrive/datasets/vk.csv' if google_drive else 'test_datasets/vk.csv'\n",
    "vk_graph = vk_undirected(file_path)\n",
    "\n",
    "if not google_drive:\n",
    "  G=nx.Graph()\n",
    "  elist=list(map(lambda e: e.to_tuple(), vk_graph.get_all_edges()))\n",
    "  G.add_weighted_edges_from(elist)\n",
    "  nx.draw(G, with_labels=True)"
   ],
   "metadata": {
    "collapsed": false,
    "pycharm": {
     "name": "#%%\n"
    }
   }
  },
  {
   "cell_type": "code",
   "execution_count": null,
   "outputs": [],
   "source": [
    "vk_results = {}\n",
    "\n",
    "total_v = len(vk_graph.get_all_vertices())\n",
    "total_e = vk_graph.num_edges\n",
    "print(f\"v: {total_v}, e: {total_e}\")\n",
    "print(\"part:\", total_e / (2 * (total_v ** 2 - total_v)))\n",
    "\n",
    "comps = weak_conns(vk_graph)\n",
    "print(\"Слабая связность\", len(comps))\n",
    "max_weak_comp = max(comps, key=len)\n",
    "print(\"Доля вершин:\", len(max_weak_comp) / total_v)\n",
    "\n",
    "radius, diameter, percentile = evaluate_main_characteristics(vk_graph, max_weak_comp)\n",
    "print(\"Радиус: \", radius)\n",
    "print(\"Диаметр: \", diameter)\n",
    "print(\"90 процентиль расстояния: \", percentile)\n",
    "\n",
    "\n",
    "vk_results['total_v'] = total_v\n",
    "vk_results['total_e'] = total_e\n",
    "vk_results['weak_comps'] = comps\n",
    "vk_results['radius'] = radius\n",
    "vk_results['diameter'] = diameter\n",
    "vk_results['percentile'] = percentile\n",
    "\n",
    "\n",
    "triangles = num_of_triangles(vk_graph)\n",
    "print(f\"Число треугольников: {triangles}\")\n",
    "avg, glob = average_and_global_cluster_coefficients(vk_graph)\n",
    "print(f\"Средний кластреный коэффициент: {avg}\")\n",
    "print(f\"Глобальный кластреный коэффициент: {glob}\")\n",
    "\n",
    "vk_results['triangles'] = triangles\n",
    "vk_results['avg_cluster'] = avg\n",
    "vk_results['glob_cluster'] = glob\n",
    "\n",
    "\n",
    "d = evaluate_vertices_degree(vk_graph)\n",
    "print(\"MAX степень вершин:\", max(d.keys()))\n",
    "print(\"MIN степень вершин:\", min(d.keys()))\n",
    "sum = 0\n",
    "for i in d.items():\n",
    "\tsum += i[0]*len(i[1])\n",
    "print(\"avg степень вершин:\", sum/total_v)\n",
    "\n",
    "vk_results['max_degree'] =  max(d.keys())\n",
    "vk_results['min_degree'] =  min(d.keys())\n",
    "vk_results['avg_degree'] =  sum/total_v\n",
    "\n",
    "\n",
    "x, y = [], []\n",
    "sum = 0\n",
    "for item in  sorted(d.items()):\n",
    "\tx.append(item[0])\n",
    "\tsum += len(item[1])/total_v\n",
    "\ty.append(sum)\n",
    "\n",
    "\n",
    "with open('vk_results.pickle', 'wb') as f:\n",
    "\tpickle.dump(vk_results, f)"
   ],
   "metadata": {
    "collapsed": false,
    "pycharm": {
     "name": "#%%\n"
    }
   }
  },
  {
   "cell_type": "code",
   "execution_count": null,
   "outputs": [],
   "source": [
    "plt.yscale('log')\n",
    "plt.xscale('log')\n",
    "plt.step(x, y, where='post')"
   ],
   "metadata": {
    "collapsed": false,
    "pycharm": {
     "name": "#%%\n"
    }
   }
  },
  {
   "cell_type": "code",
   "execution_count": null,
   "outputs": [],
   "source": [],
   "metadata": {
    "collapsed": false,
    "pycharm": {
     "name": "#%%\n"
    }
   }
  },
  {
   "cell_type": "markdown",
   "source": [
    "## B"
   ],
   "metadata": {
    "collapsed": false,
    "pycharm": {
     "name": "#%% md\n"
    }
   }
  },
  {
   "cell_type": "code",
   "execution_count": null,
   "outputs": [],
   "source": [
    "x, y = get_proportions_after_vertices_removal(vk_graph)\n",
    "plt.plot(x, y)"
   ],
   "metadata": {
    "collapsed": false,
    "pycharm": {
     "name": "#%%\n"
    }
   }
  },
  {
   "cell_type": "code",
   "execution_count": null,
   "outputs": [],
   "source": [
    "x, y = get_proportions_after_vertices_removal(vk_graph, del_only_max_degree=True)\n",
    "plt.plot(x, y)"
   ],
   "metadata": {
    "collapsed": false,
    "pycharm": {
     "name": "#%%\n"
    }
   }
  }
 ],
 "metadata": {
  "kernelspec": {
   "display_name": "Python 3 (ipykernel)",
   "language": "python",
   "name": "python3"
  },
  "language_info": {
   "codemirror_mode": {
    "name": "ipython",
    "version": 3
   },
   "file_extension": ".py",
   "mimetype": "text/x-python",
   "name": "python",
   "nbconvert_exporter": "python",
   "pygments_lexer": "ipython3",
   "version": "3.10.4"
  },
  "colab": {
   "name": "Untitled.ipynb",
   "provenance": [],
   "include_colab_link": true
  }
 },
 "nbformat": 4,
 "nbformat_minor": 5
}